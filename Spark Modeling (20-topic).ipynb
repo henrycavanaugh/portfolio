{
 "cells": [
  {
   "cell_type": "code",
   "execution_count": 1,
   "metadata": {},
   "outputs": [
    {
     "name": "stdout",
     "output_type": "stream",
     "text": [
      "Loading spark-stubs\n",
      "Getting spark JARs\n",
      "Creating SparkSession\n"
     ]
    },
    {
     "name": "stderr",
     "output_type": "stream",
     "text": [
      "Using Spark's default log4j profile: org/apache/spark/log4j-defaults.properties\n"
     ]
    },
    {
     "data": {
      "text/html": [
       "<a href=\"http://jupyter-henrycavanaugh-2dscalabinders-2d13ynw4h1:4040\">Spark UI</a>"
      ]
     },
     "metadata": {},
     "output_type": "display_data"
    },
    {
     "data": {
      "text/plain": [
       "\u001b[36mk\u001b[39m: \u001b[32mInt\u001b[39m = \u001b[32m11\u001b[39m\n",
       "\u001b[36miterations\u001b[39m: \u001b[32mInt\u001b[39m = \u001b[32m25\u001b[39m\n",
       "\u001b[36mstopWords\u001b[39m: \u001b[32mArray\u001b[39m[\u001b[32mString\u001b[39m] = \u001b[33mArray\u001b[39m(\n",
       "  \u001b[32m\"the\"\u001b[39m,\n",
       "  \u001b[32m\"a\"\u001b[39m,\n",
       "  \u001b[32m\"and\"\u001b[39m,\n",
       "  \u001b[32m\"with\"\u001b[39m,\n",
       "  \u001b[32m\"holding\"\u001b[39m,\n",
       "  \u001b[32m\"left\"\u001b[39m,\n",
       "  \u001b[32m\"right\"\u001b[39m,\n",
       "  \u001b[32m\"two\"\u001b[39m,\n",
       "  \u001b[32m\"extending\"\u001b[39m,\n",
       "  \u001b[32m\"below\"\u001b[39m,\n",
       "  \u001b[32m\"above\"\u001b[39m,\n",
       "  \u001b[32m\"standing\"\u001b[39m,\n",
       "  \u001b[32m\"him\"\u001b[39m,\n",
       "  \u001b[32m\"over\"\u001b[39m,\n",
       "  \u001b[32m\"for\"\u001b[39m,\n",
       "  \u001b[32m\"from\"\u001b[39m,\n",
       "  \u001b[32m\"within\"\u001b[39m,\n",
       "  \u001b[32m\"seated\"\u001b[39m,\n",
       "  \u001b[32m\"before\"\u001b[39m,\n",
       "  \u001b[32m\"behind\"\u001b[39m,\n",
       "  \u001b[32m\"front\"\u001b[39m,\n",
       "  \u001b[32m\"draped\"\u001b[39m,\n",
       "  \u001b[32m\"cuirassed\"\u001b[39m,\n",
       "  \u001b[32m\"head\"\u001b[39m,\n",
       "  \u001b[32m\"shoulder\"\u001b[39m,\n",
       "  \u001b[32m\"each\"\u001b[39m,\n",
       "  \u001b[32m\"set\"\u001b[39m,\n",
       "  \u001b[32m\"between\"\u001b[39m,\n",
       "  \u001b[32m\"inscribed\"\u001b[39m,\n",
       "  \u001b[32m\"wearing\"\u001b[39m,\n",
       "  \u001b[32m\"raising\"\u001b[39m,\n",
       "  \u001b[32m\"facing\"\u001b[39m,\n",
       "  \u001b[32m\"which\"\u001b[39m,\n",
       "  \u001b[32m\"except\"\u001b[39m,\n",
       "  \u001b[32m\"surronding\"\u001b[39m,\n",
       "  \u001b[32m\"beneath\"\u001b[39m,\n",
       "  \u001b[32m\"who\"\u001b[39m,\n",
       "  \u001b[32m\"other\"\u001b[39m,\n",
       "...\n",
       "\u001b[36mvocabSize\u001b[39m: \u001b[32mInt\u001b[39m = \u001b[32m15000\u001b[39m\n",
       "\u001b[36mminimumTokenLength\u001b[39m: \u001b[32mInt\u001b[39m = \u001b[32m3\u001b[39m\n",
       "\u001b[36mmaxWidth\u001b[39m: \u001b[32mInt\u001b[39m = \u001b[32m1000\u001b[39m\n",
       "\u001b[32mimport \u001b[39m\u001b[36mscala.io.Source\n",
       "\u001b[39m\n",
       "\u001b[32mimport \u001b[39m\u001b[36mscala.io.Source\n",
       "\u001b[39m\n",
       "\u001b[36murl\u001b[39m: \u001b[32mString\u001b[39m = \u001b[32m\"https://raw.githubusercontent.com/neelsmith/nomisma/master/cex/ocre-cite-ids.cex\"\u001b[39m\n",
       "\u001b[36mlines\u001b[39m: \u001b[32mscala\u001b[39m.\u001b[32mpackage\u001b[39m.\u001b[32mVector\u001b[39m[\u001b[32mString\u001b[39m] = \u001b[33mVector\u001b[39m(\n",
       "  \u001b[32m\"ID#Label#Denomination#Metal#Authority#Mint#Region#ObvType#ObvLegend#ObvPortraitId#RevType#RevLegend#RevPortraitId#StartDate#EndDate\"\u001b[39m,\n",
       "  \u001b[32m\"3.com.43#RIC III Commodus 43#denarius#ar#commodus#rome#italy#Head of Commodus, laureate, right#M COMMODVS ANTONINVS AVG#http://nomisma.org/id/commodus#Roma, helmeted, draped, standing left, holding Victory in extended right hand and vertical spear in left hand#TR P VII IMP V COS III P P#http://collection.britishmuseum.org/id/person-institution/60208#182#182\"\u001b[39m,\n",
       "  \u001b[32m\"9.thes.27B.iii#RIC IX Thessalonica 27B: Subtype iii#ae3#ae#valentinian_i#thessalonica#macedonia#Bust of Valens, pearl-diademed, draped and cuirassed, right#D N VALEN-S P F AVG#http://nomisma.org/id/valens#Victory advancing left, holding wreath and palm#SECVRITAS-REIPVBLICAE#http://collection.britishmuseum.org/id/person-institution/60915#367#375\"\u001b[39m,\n",
       "  \u001b[32m\"9.thes.27B.ii#RIC IX Thessalonica 27B: Subtype ii#ae3#ae#valentinian_i#thessalonica#macedonia#Bust of Valens, pearl-diademed, draped and cuirassed, right#D N VALEN-S P F AVG#http://nomisma.org/id/valens#Victory advancing left, holding wreath and palm#SECVRITAS-REIPVBLICAE#http://collection.britishmuseum.org/id/person-institution/60915#367#375\"\u001b[39m,\n",
       "  \u001b[32m\"4.sa.26d#RIC IV Severus Alexander 26d#aureus#av#severus_alexander#rome#italy#Bust of Severus Alexander, larueate, draped, cuirassed, right#IMP C M AVR SEV ALEXAND AVG#http://nomisma.org/id/severus_alexander#Pax, draped, standing left, holding olive branch in right hand and sceptre in left hand#P M TR P II COS P P#http://collection.britishmuseum.org/id/person-institution/76227#223#223\"\u001b[39m,\n",
       "  \u001b[32m\"9.thes.18A.xxv#RIC IX Thessalonica 18A: Subtype xxv#ae3#ae#valentinian_i#thessalonica#macedonia#Bust of Valentinian I, pearl-diademed, draped and cuirassed, right#D N VALENTINI-ANVS P F AVG#http://nomisma.org/id/valentinian_i#Victory advancing left, holding wreath and palm#SECVRITAS-REIPVBLICAE#http://collection.britishmuseum.org/id/person-institution/60915#364#367\"\u001b[39m,\n",
       "  \u001b[32m\"6.rom.327b#RIC VI Rome 327b#ae2#ae#constantine_i#rome#italy#Bust of Maximinus Daia, laureate, draped, right, seen from behind#IMP MAXIMINVS P F AVG#http://nomisma.org/id/maximinus_daia#Sol, chlamys hanging behind, standing left, raising right hand and holding globe close to body in left hand#SOLI INVIC-TO COMITI#http://collection.britishmuseum.org/id/person-institution/58616#312#313\"\u001b[39m,\n",
       "  \u001b[32m\"6.rom.325#RIC VI Rome 325#ae2#ae#constantine_i#rome#italy#Bust of Constantine I, laureate, cuirassed, right#IMP C CONSTANTINVS P F AVG#http://nomisma.org/id/constantine_i#Sol, chlamys hanging behind, standing left, raising right hand and holding globe close to body in left hand#SOLI INVIC-TO COMITI#http://collection.britishmuseum.org/id/person-institution/58616#312#313\"\u001b[39m,\n",
       "  \u001b[32m\"6.rom.323c#RIC VI Rome 323c#ae2#ae#constantine_i#rome#italy#Bust of Licinius,\u001b[39m...\n",
       "\u001b[36mrawText\u001b[39m: \u001b[32mcollection\u001b[39m.\u001b[32mimmutable\u001b[39m.\u001b[32mVector\u001b[39m[\u001b[32mString\u001b[39m] = \u001b[33mVector\u001b[39m(\n",
       "  \u001b[32m\"Authority RevType\"\u001b[39m,\n",
       "  \u001b[32m\"commodus Roma, helmeted, draped, standing left, holding Victory in extended right hand and vertical spear in left hand\"\u001b[39m,\n",
       "  \u001b[32m\"valentinian_i Victory advancing left, holding wreath and palm\"\u001b[39m,\n",
       "  \u001b[32m\"valentinian_i Victory advancing left, holding wreath and palm\"\u001b[39m,\n",
       "  \u001b[32m\"severus_alexander Pax, draped, standing left, holding olive branch in right hand and sceptre in left hand\"\u001b[39m,\n",
       "  \u001b[32m\"valentinian_i Victory advancing left, holding wreath and palm\"\u001b[39m,\n",
       "  \u001b[32m\"constantine_i Sol, chlamys hanging behind, standing left, raising right hand and holding globe close to body in left hand\"\u001b[39m,\n",
       "  \u001b[32m\"constantine_i Sol, chlamys hanging behind, standing left, raising right hand and holding globe close to body in left hand\"\u001b[39m,\n",
       "  \u001b[32m\"constantine_i Sol, chlamys hanging behind, standing left, raising right hand and holding up globe in left hand\"\u001b[39m,\n",
       "  \u001b[32m\"constantine_i Sol, chlamys hanging behind, standing left, raising right hand and holding up globe in left hand\"\u001b[39m,\n",
       "  \u001b[32m\"constantine_i Sol, chlamys hanging behind, standing left, raising right hand and holding up globe in left hand\"\u001b[39m,\n",
       "  \u001b[32m\"constantine_i Roma, helmeted, draped, seated front, head left, seated front in hexastyle temple, holding globe in right hand and sceptre in left hand, to left, shield; in pediment, wreath\"\u001b[39m,\n",
       "  \u001b[32m\"constantine_i Mars, standing right, leaning on reversed spear (or sceptre) with right hand and placing left hand on shield\"\u001b[39m,\n",
       "  \u001b[32m\"valerian Jupiter, nude except of cloak draped over left shoulder, standing left, holding thunderbolt in right hand and sceptre in left hand\"\u001b[39m,\n",
       "  \u001b[32m\"constantine_i Mars, standing left, head right, leaning on reversed spear (or sceptre) with right hand and placing left hand on shield\"\u001b[39m,\n",
       "  \u001b[32m\"constantine_i Hercules, standing right, leaning on cub with right hand and holding Victory on globe and lion's skin in left hand\"\u001b[39m,\n",
       "  \u001b[32m\"constantine_i Genius, wearing modius, nude, chlamys draped over left shoulder, standing left, holding patera in right hand and cornucopiae in left hand\"\u001b[39m,\n",
       "  \u001b[32m\"constantine_i Genius, wearing modius, nude, chlamys draped over left shoulder, standing left, holding patera in right hand and cornucopiae in left hand\"\u001b[39m,\n",
       "  \u001b[32m\"trajan_decius Herennius, in military attire, standing left, holding wand in right hand and transverse spear in left hand\"\u001b[39m,\n",
       "  \u001b[32m\"constantine_i Genius, wearing modius, nude, chlamys draped over left shoulder, standing left, holding patera in right hand and cornucopiae in left hand\"\u001b[39m,\n",
       "  \u001b[32m\"constantine_i Genius, wearing modius, nude, chlamys draped over left shoulder\u001b[39m...\n",
       "\u001b[36mcleanText\u001b[39m: \u001b[32mcollection\u001b[39m.\u001b[32mimmutable\u001b[39m.\u001b[32mVector\u001b[39m[\u001b[32mString\u001b[39m] = \u001b[33mVector\u001b[39m(\n",
       "  \u001b[32m\"authority revtype\"\u001b[39m,\n",
       "  \u001b[32m\"commodus roma helmeted draped standing left holding victory in extended right hand and vertical spear in left hand\"\u001b[39m,\n",
       "  \u001b[32m\"valentiniani victory advancing left holding wreath and palm\"\u001b[39m,\n",
       "  \u001b[32m\"valentiniani victory advancing left holding wreath and palm\"\u001b[39m,\n",
       "  \u001b[32m\"severusalexander pax draped standing left holding olive branch in right hand and sceptre in left hand\"\u001b[39m,\n",
       "  \u001b[32m\"valentiniani victory advancing left holding wreath and palm\"\u001b[39m,\n",
       "  \u001b[32m\"constantinei sol chlamys hanging behind standing left raising right hand and holding globe close to body in left hand\"\u001b[39m,\n",
       "  \u001b[32m\"constantinei sol chlamys hanging behind standing left raising right hand and holding globe close to body in left hand\"\u001b[39m,\n",
       "  \u001b[32m\"constantinei sol chlamys hanging behind standing left raising right hand and holding up globe in left hand\"\u001b[39m,\n",
       "  \u001b[32m\"constantinei sol chlamys hanging behind standing left raising right hand and holding up globe in left hand\"\u001b[39m,\n",
       "  \u001b[32m\"constantinei sol chlamys hanging behind standing left raising right hand and holding up globe in left hand\"\u001b[39m,\n",
       "  \u001b[32m\"constantinei roma helmeted draped seated front head left seated front in hexastyle temple holding globe in right hand and sceptre in left hand to left shield in pediment wreath\"\u001b[39m,\n",
       "  \u001b[32m\"constantinei mars standing right leaning on reversed spear or sceptre with right hand and placing left hand on shield\"\u001b[39m,\n",
       "  \u001b[32m\"valerian jupiter nude except of cloak draped over left shoulder standing left holding thunderbolt in right hand and sceptre in left hand\"\u001b[39m,\n",
       "  \u001b[32m\"constantinei mars standing left head right leaning on reversed spear or sceptre with right hand and placing left hand on shield\"\u001b[39m,\n",
       "  \u001b[32m\"constantinei hercules standing right leaning on cub with right hand and holding victory on globe and lions skin in left hand\"\u001b[39m,\n",
       "  \u001b[32m\"constantinei genius wearing modius nude chlamys draped over left shoulder standing left holding patera in right hand and cornucopiae in left hand\"\u001b[39m,\n",
       "  \u001b[32m\"constantinei genius wearing modius nude chlamys draped over left shoulder standing left holding patera in right hand and cornucopiae in left hand\"\u001b[39m,\n",
       "  \u001b[32m\"trajandecius herennius in military attire standing left holding wand in right hand and transverse spear in left hand\"\u001b[39m,\n",
       "  \u001b[32m\"constantinei genius wearing modius nude chlamys draped over left shoulder standing left holding patera in right hand and cornucopiae in left hand\"\u001b[39m,\n",
       "  \u001b[32m\"constantinei genius wearing modius nude chlamys draped over left shoulder sta\u001b[39m...\n",
       "\u001b[32mimport \u001b[39m\u001b[36m$ivy.$                                   // Or use any other 2.x version here\n",
       "\u001b[39m\n",
       "\u001b[32mimport \u001b[39m\u001b[36morg.apache.spark.sql._\n",
       "\u001b[39m\n",
       "\u001b[32mimport \u001b[39m\u001b[36m$ivy.$                                    \n",
       "\u001b[39m\n",
       "\u001b[32mimport \u001b[39m\u001b[36morg.apache.log4j.{Level, Logger}\n",
       "\u001b[39m\n",
       "\u001b[36mspark\u001b[39m: \u001b[32mSparkSession\u001b[39m = org.apache.spark.sql.SparkSession@2d1127f2\n",
       "\u001b[32mimport \u001b[39m\u001b[36morg.apache.spark.ml.clustering.LDA\n",
       "\u001b[39m\n",
       "\u001b[32mimport \u001b[39m\u001b[36morg.apache.spark.ml.feature.RegexTokenizer\n",
       "\u001b[39m\n",
       "\u001b[32mimport \u001b[39m\u001b[36morg.apache.spark.ml.feature.StopWordsRemover\n",
       "\u001b[39m\n",
       "\u001b[32mimport \u001b[39m\u001b[36morg.apache.spark.ml.feature.CountVectorizer\n",
       "\u001b[39m\n",
       "\u001b[32mimport \u001b[39m\u001b[36morg.apache.spark.mllib.linalg.Vector\n",
       "\u001b[39m\n",
       "\u001b[32mimport \u001b[39m\u001b[36mscala.collection.mutable.WrappedArray\n",
       "\u001b[39m\n",
       "\u001b[32mimport \u001b[39m\u001b[36morg.apache.spark.sql.types.IntegerType\n",
       "\u001b[39m\n",
       "\u001b[32mimport \u001b[39m\u001b[36morg.apache.spark.sql.functions._\u001b[39m"
      ]
     },
     "execution_count": 1,
     "metadata": {},
     "output_type": "execute_result"
    }
   ],
   "source": [
    "val k = 11\n",
    "val iterations = 25\n",
    "val stopWords = Array(\"the\", \"a\", \"and\", \"with\", \"holding\", \"left\", \"right\",\"two\", \"extending\", \"below\", \"above\", \"standing\", \"him\", \"over\", \"for\", \"from\", \"within\", \"seated\", \"before\", \"behind\", \"front\", \n",
    "                      \"draped\", \"cuirassed\", \"head\", \"shoulder\",\n",
    "                      \"each\", \"set\", \"between\", \"inscribed\", \"wearing\", \"raising\", \"facing\", \"which\", \"except\", \"surronding\", \"beneath\", \"who\", \"other\",\n",
    "                      \"hand\")\n",
    "val vocabSize = 15000\n",
    "val minimumTokenLength = 3\n",
    "\n",
    "// Cosmetic setting for table display:\n",
    "val maxWidth = 1000\n",
    "\n",
    "import scala.io.Source\n",
    "import scala.io.Source\n",
    "val url = \"https://raw.githubusercontent.com/neelsmith/nomisma/master/cex/ocre-cite-ids.cex\"\n",
    "\n",
    "\n",
    "val lines = Source.fromURL(url).getLines.toVector\n",
    "val rawText = lines.map(ln => { val cols = ln.split(\"#\");  cols(4) + \" \" + cols(10) })\n",
    "\n",
    "val cleanText = rawText.map(_.toLowerCase).map(_.replaceAll(\"[^a-z ]\", \"\"))\n",
    "\n",
    "import $ivy.`org.apache.spark::spark-sql:2.4.5` // Or use any other 2.x version here\n",
    "import org.apache.spark.sql._\n",
    "import $ivy.`org.apache.spark::spark-mllib:2.4.5`\n",
    "import org.apache.log4j.{Level, Logger}\n",
    "Logger.getLogger(\"org\").setLevel(Level.OFF)\n",
    "val spark = {\n",
    "  NotebookSparkSession.builder()\n",
    "    .master(\"local[*]\")\n",
    "    .getOrCreate()\n",
    "}\n",
    "\n",
    "import org.apache.spark.ml.clustering.LDA\n",
    "import org.apache.spark.ml.feature.RegexTokenizer\n",
    "import org.apache.spark.ml.feature.StopWordsRemover\n",
    "import org.apache.spark.ml.feature.CountVectorizer\n",
    "import org.apache.spark.mllib.linalg.Vector\n",
    "import scala.collection.mutable.WrappedArray\n",
    "import org.apache.spark.sql.types.IntegerType\n",
    "import org.apache.spark.sql.functions._"
   ]
  },
  {
   "cell_type": "code",
   "execution_count": 2,
   "metadata": {},
   "outputs": [
    {
     "data": {
      "text/plain": [
       "\u001b[36mtxtRdd\u001b[39m: \u001b[32morg\u001b[39m.\u001b[32mapache\u001b[39m.\u001b[32mspark\u001b[39m.\u001b[32mrdd\u001b[39m.\u001b[32mRDD\u001b[39m[(\u001b[32mString\u001b[39m, \u001b[32mLong\u001b[39m)] = ZippedWithIndexRDD[1] at zipWithIndex at cmd1.sc:1\n",
       "\u001b[32mimport \u001b[39m\u001b[36mspark.sqlContext.implicits._\n",
       "\n",
       "\u001b[39m\n",
       "\u001b[36mcorpus_df\u001b[39m: \u001b[32mDataFrame\u001b[39m = [corpus: string, id: bigint]"
      ]
     },
     "execution_count": 2,
     "metadata": {},
     "output_type": "execute_result"
    }
   ],
   "source": [
    "// Create RDD:\n",
    "val txtRdd = spark.sparkContext.parallelize(cleanText).zipWithIndex\n",
    "\n",
    "import spark.sqlContext.implicits._\n",
    "\n",
    "val corpus_df = txtRdd.toDF(\"corpus\", \"id\")"
   ]
  },
  {
   "cell_type": "code",
   "execution_count": 3,
   "metadata": {},
   "outputs": [
    {
     "data": {
      "text/plain": [
       "defined \u001b[32mclass\u001b[39m \u001b[36mRichDF\u001b[39m"
      ]
     },
     "execution_count": 3,
     "metadata": {},
     "output_type": "execute_result"
    }
   ],
   "source": [
    "// based on a snippet by Ivan Zaitsev\n",
    "// https://github.com/almond-sh/almond/issues/180#issuecomment-364711999\n",
    "implicit class RichDF(val df: DataFrame) {\n",
    "  def showHTML(limit:Int = 20, truncate: Int = 20) = {\n",
    "    import xml.Utility.escape\n",
    "    val data = df.take(limit)\n",
    "    val header = df.schema.fieldNames.toSeq\n",
    "    val rows: Seq[Seq[String]] = data.map { row =>\n",
    "      row.toSeq.map { cell =>\n",
    "        val str = cell match {\n",
    "          case null => \"null\"\n",
    "          case binary: Array[Byte] => binary.map(\"%02X\".format(_)).mkString(\"[\", \" \", \"]\")\n",
    "          case array: Array[_] => array.mkString(\"[\", \", \", \"]\")\n",
    "          case seq: Seq[_] => seq.mkString(\"[\", \", \", \"]\")\n",
    "          case _ => cell.toString\n",
    "        }\n",
    "        if (truncate > 0 && str.length > truncate) {\n",
    "          // do not show ellipses for strings shorter than 4 characters.\n",
    "          if (truncate < 4) str.substring(0, truncate)\n",
    "          else str.substring(0, truncate - 3) + \"...\"\n",
    "        } else {\n",
    "          str\n",
    "        }\n",
    "      }: Seq[String]\n",
    "    }\n",
    "\n",
    "    publish.html(s\"\"\"\n",
    "      <table class=\"table\">\n",
    "        <tr>\n",
    "        ${header.map(h => s\"<th>${escape(h)}</th>\").mkString}\n",
    "        </tr>\n",
    "        ${rows.map { row =>\n",
    "          s\"<tr>${row.map { c => s\"<td>${escape(c)}</td>\" }.mkString}</tr>\"\n",
    "        }.mkString\n",
    "        }\n",
    "      </table>\"\"\")\n",
    "  }\n",
    "}"
   ]
  },
  {
   "cell_type": "code",
   "execution_count": 4,
   "metadata": {},
   "outputs": [
    {
     "data": {
      "text/html": [
       "<script>\n",
       "var comm = Jupyter.notebook.kernel.comm_manager.new_comm('cancel-stage-9d04af96-5862-43d9-a2ad-3b7e5e480f86', {});\n",
       "\n",
       "function cancelStage(stageId) {\n",
       "  console.log('Cancelling stage ' + stageId);\n",
       "  comm.send({ 'stageId': stageId });\n",
       "}\n",
       "</script>\n",
       "          "
      ]
     },
     "metadata": {},
     "output_type": "display_data"
    },
    {
     "data": {
      "text/html": [
       "<div>\n",
       "  <span style=\"float: left;\">flatMap at CountVectorizer.scala:205</span>\n",
       "</div>\n"
      ]
     },
     "metadata": {},
     "output_type": "display_data"
    },
    {
     "data": {
      "text/html": [
       "<div class=\"progress\">\n",
       "  <div class=\"progress-bar\" role=\"progressbar\" style=\"background-color: blue; width: 100%; word-wrap: normal; white-space: nowrap; text-align: center; color: white\" aria-valuenow=\"100\" aria-valuemin=\"0\" aria-valuemax=\"100\">\n",
       "    1 / 1\n",
       "  </div>\n",
       "  <div class=\"progress-bar\" role=\"progressbar\" style=\"background-color: red; width: 0%\" aria-valuenow=\"0\" aria-valuemin=\"0\" aria-valuemax=\"100\"></div>\n",
       "</div>\n"
      ]
     },
     "metadata": {},
     "output_type": "display_data"
    },
    {
     "data": {
      "text/html": [
       "<div>\n",
       "  <span style=\"float: left;\">count at CountVectorizer.scala:230</span>\n",
       "</div>\n"
      ]
     },
     "metadata": {},
     "output_type": "display_data"
    },
    {
     "data": {
      "text/html": [
       "<div class=\"progress\">\n",
       "  <div class=\"progress-bar\" role=\"progressbar\" style=\"background-color: blue; width: 100%; word-wrap: normal; white-space: nowrap; text-align: center; color: white\" aria-valuenow=\"100\" aria-valuemin=\"0\" aria-valuemax=\"100\">\n",
       "    1 / 1\n",
       "  </div>\n",
       "  <div class=\"progress-bar\" role=\"progressbar\" style=\"background-color: red; width: 0%\" aria-valuenow=\"0\" aria-valuemin=\"0\" aria-valuemax=\"100\"></div>\n",
       "</div>\n"
      ]
     },
     "metadata": {},
     "output_type": "display_data"
    },
    {
     "data": {
      "text/html": [
       "<div>\n",
       "  <span style=\"float: left;\">top at CountVectorizer.scala:233</span>\n",
       "</div>\n"
      ]
     },
     "metadata": {},
     "output_type": "display_data"
    },
    {
     "data": {
      "text/html": [
       "<div class=\"progress\">\n",
       "  <div class=\"progress-bar\" role=\"progressbar\" style=\"background-color: blue; width: 100%; word-wrap: normal; white-space: nowrap; text-align: center; color: white\" aria-valuenow=\"100\" aria-valuemin=\"0\" aria-valuemax=\"100\">\n",
       "    1 / 1\n",
       "  </div>\n",
       "  <div class=\"progress-bar\" role=\"progressbar\" style=\"background-color: red; width: 0%\" aria-valuenow=\"0\" aria-valuemin=\"0\" aria-valuemax=\"100\"></div>\n",
       "</div>\n"
      ]
     },
     "metadata": {},
     "output_type": "display_data"
    },
    {
     "data": {
      "text/html": [
       "<div>\n",
       "  <span style=\"float: left;\">count at LDAOptimizer.scala:419</span>\n",
       "</div>\n"
      ]
     },
     "metadata": {},
     "output_type": "display_data"
    },
    {
     "data": {
      "text/html": [
       "<div class=\"progress\">\n",
       "  <div class=\"progress-bar\" role=\"progressbar\" style=\"background-color: blue; width: 100%; word-wrap: normal; white-space: nowrap; text-align: center; color: white\" aria-valuenow=\"100\" aria-valuemin=\"0\" aria-valuemax=\"100\">\n",
       "    1 / 1\n",
       "  </div>\n",
       "  <div class=\"progress-bar\" role=\"progressbar\" style=\"background-color: red; width: 0%\" aria-valuenow=\"0\" aria-valuemin=\"0\" aria-valuemax=\"100\"></div>\n",
       "</div>\n"
      ]
     },
     "metadata": {},
     "output_type": "display_data"
    },
    {
     "data": {
      "text/html": [
       "<div>\n",
       "  <span style=\"float: left;\">first at LDAOptimizer.scala:420</span>\n",
       "</div>\n"
      ]
     },
     "metadata": {},
     "output_type": "display_data"
    },
    {
     "data": {
      "text/html": [
       "<div class=\"progress\">\n",
       "  <div class=\"progress-bar\" role=\"progressbar\" style=\"background-color: blue; width: 100%; word-wrap: normal; white-space: nowrap; text-align: center; color: white\" aria-valuenow=\"100\" aria-valuemin=\"0\" aria-valuemax=\"100\">\n",
       "    1 / 1\n",
       "  </div>\n",
       "  <div class=\"progress-bar\" role=\"progressbar\" style=\"background-color: red; width: 0%\" aria-valuenow=\"0\" aria-valuemin=\"0\" aria-valuemax=\"100\"></div>\n",
       "</div>\n"
      ]
     },
     "metadata": {},
     "output_type": "display_data"
    },
    {
     "data": {
      "text/html": [
       "<div>\n",
       "  <span style=\"float: left;\">isEmpty at LDAOptimizer.scala:450</span>\n",
       "</div>\n"
      ]
     },
     "metadata": {},
     "output_type": "display_data"
    },
    {
     "data": {
      "text/html": [
       "<div class=\"progress\">\n",
       "  <div class=\"progress-bar\" role=\"progressbar\" style=\"background-color: blue; width: 100%; word-wrap: normal; white-space: nowrap; text-align: center; color: white\" aria-valuenow=\"100\" aria-valuemin=\"0\" aria-valuemax=\"100\">\n",
       "    1 / 1\n",
       "  </div>\n",
       "  <div class=\"progress-bar\" role=\"progressbar\" style=\"background-color: red; width: 0%\" aria-valuenow=\"0\" aria-valuemin=\"0\" aria-valuemax=\"100\"></div>\n",
       "</div>\n"
      ]
     },
     "metadata": {},
     "output_type": "display_data"
    },
    {
     "data": {
      "text/html": [
       "<div>\n",
       "  <span style=\"float: left;\">treeAggregate at LDAOptimizer.scala:504</span>\n",
       "</div>\n"
      ]
     },
     "metadata": {},
     "output_type": "display_data"
    },
    {
     "data": {
      "text/html": [
       "<div class=\"progress\">\n",
       "  <div class=\"progress-bar\" role=\"progressbar\" style=\"background-color: blue; width: 100%; word-wrap: normal; white-space: nowrap; text-align: center; color: white\" aria-valuenow=\"100\" aria-valuemin=\"0\" aria-valuemax=\"100\">\n",
       "    1 / 1\n",
       "  </div>\n",
       "  <div class=\"progress-bar\" role=\"progressbar\" style=\"background-color: red; width: 0%\" aria-valuenow=\"0\" aria-valuemin=\"0\" aria-valuemax=\"100\"></div>\n",
       "</div>\n"
      ]
     },
     "metadata": {},
     "output_type": "display_data"
    },
    {
     "name": "stderr",
     "output_type": "stream",
     "text": [
      "20/04/25 21:40:57 WARN BLAS: Failed to load implementation from: com.github.fommil.netlib.NativeSystemBLAS\n",
      "20/04/25 21:40:57 WARN BLAS: Failed to load implementation from: com.github.fommil.netlib.NativeRefBLAS\n"
     ]
    },
    {
     "data": {
      "text/html": [
       "<div>\n",
       "  <span style=\"float: left;\">isEmpty at LDAOptimizer.scala:450</span>\n",
       "</div>\n"
      ]
     },
     "metadata": {},
     "output_type": "display_data"
    },
    {
     "data": {
      "text/html": [
       "<div class=\"progress\">\n",
       "  <div class=\"progress-bar\" role=\"progressbar\" style=\"background-color: blue; width: 100%; word-wrap: normal; white-space: nowrap; text-align: center; color: white\" aria-valuenow=\"100\" aria-valuemin=\"0\" aria-valuemax=\"100\">\n",
       "    1 / 1\n",
       "  </div>\n",
       "  <div class=\"progress-bar\" role=\"progressbar\" style=\"background-color: red; width: 0%\" aria-valuenow=\"0\" aria-valuemin=\"0\" aria-valuemax=\"100\"></div>\n",
       "</div>\n"
      ]
     },
     "metadata": {},
     "output_type": "display_data"
    },
    {
     "data": {
      "text/html": [
       "<div>\n",
       "  <span style=\"float: left;\">treeAggregate at LDAOptimizer.scala:504</span>\n",
       "</div>\n"
      ]
     },
     "metadata": {},
     "output_type": "display_data"
    },
    {
     "data": {
      "text/html": [
       "<div class=\"progress\">\n",
       "  <div class=\"progress-bar\" role=\"progressbar\" style=\"background-color: blue; width: 100%; word-wrap: normal; white-space: nowrap; text-align: center; color: white\" aria-valuenow=\"100\" aria-valuemin=\"0\" aria-valuemax=\"100\">\n",
       "    1 / 1\n",
       "  </div>\n",
       "  <div class=\"progress-bar\" role=\"progressbar\" style=\"background-color: red; width: 0%\" aria-valuenow=\"0\" aria-valuemin=\"0\" aria-valuemax=\"100\"></div>\n",
       "</div>\n"
      ]
     },
     "metadata": {},
     "output_type": "display_data"
    },
    {
     "data": {
      "text/html": [
       "<div>\n",
       "  <span style=\"float: left;\">isEmpty at LDAOptimizer.scala:450</span>\n",
       "</div>\n"
      ]
     },
     "metadata": {},
     "output_type": "display_data"
    },
    {
     "data": {
      "text/html": [
       "<div class=\"progress\">\n",
       "  <div class=\"progress-bar\" role=\"progressbar\" style=\"background-color: blue; width: 100%; word-wrap: normal; white-space: nowrap; text-align: center; color: white\" aria-valuenow=\"100\" aria-valuemin=\"0\" aria-valuemax=\"100\">\n",
       "    1 / 1\n",
       "  </div>\n",
       "  <div class=\"progress-bar\" role=\"progressbar\" style=\"background-color: red; width: 0%\" aria-valuenow=\"0\" aria-valuemin=\"0\" aria-valuemax=\"100\"></div>\n",
       "</div>\n"
      ]
     },
     "metadata": {},
     "output_type": "display_data"
    },
    {
     "data": {
      "text/html": [
       "<div>\n",
       "  <span style=\"float: left;\">treeAggregate at LDAOptimizer.scala:504</span>\n",
       "</div>\n"
      ]
     },
     "metadata": {},
     "output_type": "display_data"
    },
    {
     "data": {
      "text/html": [
       "<div class=\"progress\">\n",
       "  <div class=\"progress-bar\" role=\"progressbar\" style=\"background-color: blue; width: 100%; word-wrap: normal; white-space: nowrap; text-align: center; color: white\" aria-valuenow=\"100\" aria-valuemin=\"0\" aria-valuemax=\"100\">\n",
       "    1 / 1\n",
       "  </div>\n",
       "  <div class=\"progress-bar\" role=\"progressbar\" style=\"background-color: red; width: 0%\" aria-valuenow=\"0\" aria-valuemin=\"0\" aria-valuemax=\"100\"></div>\n",
       "</div>\n"
      ]
     },
     "metadata": {},
     "output_type": "display_data"
    },
    {
     "data": {
      "text/html": [
       "<div>\n",
       "  <span style=\"float: left;\">isEmpty at LDAOptimizer.scala:450</span>\n",
       "</div>\n"
      ]
     },
     "metadata": {},
     "output_type": "display_data"
    },
    {
     "data": {
      "text/html": [
       "<div class=\"progress\">\n",
       "  <div class=\"progress-bar\" role=\"progressbar\" style=\"background-color: blue; width: 100%; word-wrap: normal; white-space: nowrap; text-align: center; color: white\" aria-valuenow=\"100\" aria-valuemin=\"0\" aria-valuemax=\"100\">\n",
       "    1 / 1\n",
       "  </div>\n",
       "  <div class=\"progress-bar\" role=\"progressbar\" style=\"background-color: red; width: 0%\" aria-valuenow=\"0\" aria-valuemin=\"0\" aria-valuemax=\"100\"></div>\n",
       "</div>\n"
      ]
     },
     "metadata": {},
     "output_type": "display_data"
    },
    {
     "data": {
      "text/html": [
       "<div>\n",
       "  <span style=\"float: left;\">treeAggregate at LDAOptimizer.scala:504</span>\n",
       "</div>\n"
      ]
     },
     "metadata": {},
     "output_type": "display_data"
    },
    {
     "data": {
      "text/html": [
       "<div class=\"progress\">\n",
       "  <div class=\"progress-bar\" role=\"progressbar\" style=\"background-color: blue; width: 100%; word-wrap: normal; white-space: nowrap; text-align: center; color: white\" aria-valuenow=\"100\" aria-valuemin=\"0\" aria-valuemax=\"100\">\n",
       "    1 / 1\n",
       "  </div>\n",
       "  <div class=\"progress-bar\" role=\"progressbar\" style=\"background-color: red; width: 0%\" aria-valuenow=\"0\" aria-valuemin=\"0\" aria-valuemax=\"100\"></div>\n",
       "</div>\n"
      ]
     },
     "metadata": {},
     "output_type": "display_data"
    },
    {
     "data": {
      "text/html": [
       "<div>\n",
       "  <span style=\"float: left;\">isEmpty at LDAOptimizer.scala:450</span>\n",
       "</div>\n"
      ]
     },
     "metadata": {},
     "output_type": "display_data"
    },
    {
     "data": {
      "text/html": [
       "<div class=\"progress\">\n",
       "  <div class=\"progress-bar\" role=\"progressbar\" style=\"background-color: blue; width: 100%; word-wrap: normal; white-space: nowrap; text-align: center; color: white\" aria-valuenow=\"100\" aria-valuemin=\"0\" aria-valuemax=\"100\">\n",
       "    1 / 1\n",
       "  </div>\n",
       "  <div class=\"progress-bar\" role=\"progressbar\" style=\"background-color: red; width: 0%\" aria-valuenow=\"0\" aria-valuemin=\"0\" aria-valuemax=\"100\"></div>\n",
       "</div>\n"
      ]
     },
     "metadata": {},
     "output_type": "display_data"
    },
    {
     "data": {
      "text/html": [
       "<div>\n",
       "  <span style=\"float: left;\">treeAggregate at LDAOptimizer.scala:504</span>\n",
       "</div>\n"
      ]
     },
     "metadata": {},
     "output_type": "display_data"
    },
    {
     "data": {
      "text/html": [
       "<div class=\"progress\">\n",
       "  <div class=\"progress-bar\" role=\"progressbar\" style=\"background-color: blue; width: 100%; word-wrap: normal; white-space: nowrap; text-align: center; color: white\" aria-valuenow=\"100\" aria-valuemin=\"0\" aria-valuemax=\"100\">\n",
       "    1 / 1\n",
       "  </div>\n",
       "  <div class=\"progress-bar\" role=\"progressbar\" style=\"background-color: red; width: 0%\" aria-valuenow=\"0\" aria-valuemin=\"0\" aria-valuemax=\"100\"></div>\n",
       "</div>\n"
      ]
     },
     "metadata": {},
     "output_type": "display_data"
    },
    {
     "data": {
      "text/html": [
       "<div>\n",
       "  <span style=\"float: left;\">isEmpty at LDAOptimizer.scala:450</span>\n",
       "</div>\n"
      ]
     },
     "metadata": {},
     "output_type": "display_data"
    },
    {
     "data": {
      "text/html": [
       "<div class=\"progress\">\n",
       "  <div class=\"progress-bar\" role=\"progressbar\" style=\"background-color: blue; width: 100%; word-wrap: normal; white-space: nowrap; text-align: center; color: white\" aria-valuenow=\"100\" aria-valuemin=\"0\" aria-valuemax=\"100\">\n",
       "    1 / 1\n",
       "  </div>\n",
       "  <div class=\"progress-bar\" role=\"progressbar\" style=\"background-color: red; width: 0%\" aria-valuenow=\"0\" aria-valuemin=\"0\" aria-valuemax=\"100\"></div>\n",
       "</div>\n"
      ]
     },
     "metadata": {},
     "output_type": "display_data"
    },
    {
     "data": {
      "text/html": [
       "<div>\n",
       "  <span style=\"float: left;\">treeAggregate at LDAOptimizer.scala:504</span>\n",
       "</div>\n"
      ]
     },
     "metadata": {},
     "output_type": "display_data"
    },
    {
     "data": {
      "text/html": [
       "<div class=\"progress\">\n",
       "  <div class=\"progress-bar\" role=\"progressbar\" style=\"background-color: blue; width: 100%; word-wrap: normal; white-space: nowrap; text-align: center; color: white\" aria-valuenow=\"100\" aria-valuemin=\"0\" aria-valuemax=\"100\">\n",
       "    1 / 1\n",
       "  </div>\n",
       "  <div class=\"progress-bar\" role=\"progressbar\" style=\"background-color: red; width: 0%\" aria-valuenow=\"0\" aria-valuemin=\"0\" aria-valuemax=\"100\"></div>\n",
       "</div>\n"
      ]
     },
     "metadata": {},
     "output_type": "display_data"
    },
    {
     "data": {
      "text/html": [
       "<div>\n",
       "  <span style=\"float: left;\">isEmpty at LDAOptimizer.scala:450</span>\n",
       "</div>\n"
      ]
     },
     "metadata": {},
     "output_type": "display_data"
    },
    {
     "data": {
      "text/html": [
       "<div class=\"progress\">\n",
       "  <div class=\"progress-bar\" role=\"progressbar\" style=\"background-color: blue; width: 100%; word-wrap: normal; white-space: nowrap; text-align: center; color: white\" aria-valuenow=\"100\" aria-valuemin=\"0\" aria-valuemax=\"100\">\n",
       "    1 / 1\n",
       "  </div>\n",
       "  <div class=\"progress-bar\" role=\"progressbar\" style=\"background-color: red; width: 0%\" aria-valuenow=\"0\" aria-valuemin=\"0\" aria-valuemax=\"100\"></div>\n",
       "</div>\n"
      ]
     },
     "metadata": {},
     "output_type": "display_data"
    },
    {
     "data": {
      "text/html": [
       "<div>\n",
       "  <span style=\"float: left;\">treeAggregate at LDAOptimizer.scala:504</span>\n",
       "</div>\n"
      ]
     },
     "metadata": {},
     "output_type": "display_data"
    },
    {
     "data": {
      "text/html": [
       "<div class=\"progress\">\n",
       "  <div class=\"progress-bar\" role=\"progressbar\" style=\"background-color: blue; width: 100%; word-wrap: normal; white-space: nowrap; text-align: center; color: white\" aria-valuenow=\"100\" aria-valuemin=\"0\" aria-valuemax=\"100\">\n",
       "    1 / 1\n",
       "  </div>\n",
       "  <div class=\"progress-bar\" role=\"progressbar\" style=\"background-color: red; width: 0%\" aria-valuenow=\"0\" aria-valuemin=\"0\" aria-valuemax=\"100\"></div>\n",
       "</div>\n"
      ]
     },
     "metadata": {},
     "output_type": "display_data"
    },
    {
     "data": {
      "text/html": [
       "<div>\n",
       "  <span style=\"float: left;\">isEmpty at LDAOptimizer.scala:450</span>\n",
       "</div>\n"
      ]
     },
     "metadata": {},
     "output_type": "display_data"
    },
    {
     "data": {
      "text/html": [
       "<div class=\"progress\">\n",
       "  <div class=\"progress-bar\" role=\"progressbar\" style=\"background-color: blue; width: 100%; word-wrap: normal; white-space: nowrap; text-align: center; color: white\" aria-valuenow=\"100\" aria-valuemin=\"0\" aria-valuemax=\"100\">\n",
       "    1 / 1\n",
       "  </div>\n",
       "  <div class=\"progress-bar\" role=\"progressbar\" style=\"background-color: red; width: 0%\" aria-valuenow=\"0\" aria-valuemin=\"0\" aria-valuemax=\"100\"></div>\n",
       "</div>\n"
      ]
     },
     "metadata": {},
     "output_type": "display_data"
    },
    {
     "data": {
      "text/html": [
       "<div>\n",
       "  <span style=\"float: left;\">treeAggregate at LDAOptimizer.scala:504</span>\n",
       "</div>\n"
      ]
     },
     "metadata": {},
     "output_type": "display_data"
    },
    {
     "data": {
      "text/html": [
       "<div class=\"progress\">\n",
       "  <div class=\"progress-bar\" role=\"progressbar\" style=\"background-color: blue; width: 100%; word-wrap: normal; white-space: nowrap; text-align: center; color: white\" aria-valuenow=\"100\" aria-valuemin=\"0\" aria-valuemax=\"100\">\n",
       "    1 / 1\n",
       "  </div>\n",
       "  <div class=\"progress-bar\" role=\"progressbar\" style=\"background-color: red; width: 0%\" aria-valuenow=\"0\" aria-valuemin=\"0\" aria-valuemax=\"100\"></div>\n",
       "</div>\n"
      ]
     },
     "metadata": {},
     "output_type": "display_data"
    },
    {
     "data": {
      "text/html": [
       "<div>\n",
       "  <span style=\"float: left;\">isEmpty at LDAOptimizer.scala:450</span>\n",
       "</div>\n"
      ]
     },
     "metadata": {},
     "output_type": "display_data"
    },
    {
     "data": {
      "text/html": [
       "<div class=\"progress\">\n",
       "  <div class=\"progress-bar\" role=\"progressbar\" style=\"background-color: blue; width: 100%; word-wrap: normal; white-space: nowrap; text-align: center; color: white\" aria-valuenow=\"100\" aria-valuemin=\"0\" aria-valuemax=\"100\">\n",
       "    1 / 1\n",
       "  </div>\n",
       "  <div class=\"progress-bar\" role=\"progressbar\" style=\"background-color: red; width: 0%\" aria-valuenow=\"0\" aria-valuemin=\"0\" aria-valuemax=\"100\"></div>\n",
       "</div>\n"
      ]
     },
     "metadata": {},
     "output_type": "display_data"
    },
    {
     "data": {
      "text/html": [
       "<div>\n",
       "  <span style=\"float: left;\">treeAggregate at LDAOptimizer.scala:504</span>\n",
       "</div>\n"
      ]
     },
     "metadata": {},
     "output_type": "display_data"
    },
    {
     "data": {
      "text/html": [
       "<div class=\"progress\">\n",
       "  <div class=\"progress-bar\" role=\"progressbar\" style=\"background-color: blue; width: 100%; word-wrap: normal; white-space: nowrap; text-align: center; color: white\" aria-valuenow=\"100\" aria-valuemin=\"0\" aria-valuemax=\"100\">\n",
       "    1 / 1\n",
       "  </div>\n",
       "  <div class=\"progress-bar\" role=\"progressbar\" style=\"background-color: red; width: 0%\" aria-valuenow=\"0\" aria-valuemin=\"0\" aria-valuemax=\"100\"></div>\n",
       "</div>\n"
      ]
     },
     "metadata": {},
     "output_type": "display_data"
    },
    {
     "data": {
      "text/html": [
       "<div>\n",
       "  <span style=\"float: left;\">isEmpty at LDAOptimizer.scala:450</span>\n",
       "</div>\n"
      ]
     },
     "metadata": {},
     "output_type": "display_data"
    },
    {
     "data": {
      "text/html": [
       "<div class=\"progress\">\n",
       "  <div class=\"progress-bar\" role=\"progressbar\" style=\"background-color: blue; width: 100%; word-wrap: normal; white-space: nowrap; text-align: center; color: white\" aria-valuenow=\"100\" aria-valuemin=\"0\" aria-valuemax=\"100\">\n",
       "    1 / 1\n",
       "  </div>\n",
       "  <div class=\"progress-bar\" role=\"progressbar\" style=\"background-color: red; width: 0%\" aria-valuenow=\"0\" aria-valuemin=\"0\" aria-valuemax=\"100\"></div>\n",
       "</div>\n"
      ]
     },
     "metadata": {},
     "output_type": "display_data"
    },
    {
     "data": {
      "text/html": [
       "<div>\n",
       "  <span style=\"float: left;\">treeAggregate at LDAOptimizer.scala:504</span>\n",
       "</div>\n"
      ]
     },
     "metadata": {},
     "output_type": "display_data"
    },
    {
     "data": {
      "text/html": [
       "<div class=\"progress\">\n",
       "  <div class=\"progress-bar\" role=\"progressbar\" style=\"background-color: blue; width: 100%; word-wrap: normal; white-space: nowrap; text-align: center; color: white\" aria-valuenow=\"100\" aria-valuemin=\"0\" aria-valuemax=\"100\">\n",
       "    1 / 1\n",
       "  </div>\n",
       "  <div class=\"progress-bar\" role=\"progressbar\" style=\"background-color: red; width: 0%\" aria-valuenow=\"0\" aria-valuemin=\"0\" aria-valuemax=\"100\"></div>\n",
       "</div>\n"
      ]
     },
     "metadata": {},
     "output_type": "display_data"
    },
    {
     "data": {
      "text/html": [
       "<div>\n",
       "  <span style=\"float: left;\">isEmpty at LDAOptimizer.scala:450</span>\n",
       "</div>\n"
      ]
     },
     "metadata": {},
     "output_type": "display_data"
    },
    {
     "data": {
      "text/html": [
       "<div class=\"progress\">\n",
       "  <div class=\"progress-bar\" role=\"progressbar\" style=\"background-color: blue; width: 100%; word-wrap: normal; white-space: nowrap; text-align: center; color: white\" aria-valuenow=\"100\" aria-valuemin=\"0\" aria-valuemax=\"100\">\n",
       "    1 / 1\n",
       "  </div>\n",
       "  <div class=\"progress-bar\" role=\"progressbar\" style=\"background-color: red; width: 0%\" aria-valuenow=\"0\" aria-valuemin=\"0\" aria-valuemax=\"100\"></div>\n",
       "</div>\n"
      ]
     },
     "metadata": {},
     "output_type": "display_data"
    },
    {
     "data": {
      "text/html": [
       "<div>\n",
       "  <span style=\"float: left;\">treeAggregate at LDAOptimizer.scala:504</span>\n",
       "</div>\n"
      ]
     },
     "metadata": {},
     "output_type": "display_data"
    },
    {
     "data": {
      "text/html": [
       "<div class=\"progress\">\n",
       "  <div class=\"progress-bar\" role=\"progressbar\" style=\"background-color: blue; width: 100%; word-wrap: normal; white-space: nowrap; text-align: center; color: white\" aria-valuenow=\"100\" aria-valuemin=\"0\" aria-valuemax=\"100\">\n",
       "    1 / 1\n",
       "  </div>\n",
       "  <div class=\"progress-bar\" role=\"progressbar\" style=\"background-color: red; width: 0%\" aria-valuenow=\"0\" aria-valuemin=\"0\" aria-valuemax=\"100\"></div>\n",
       "</div>\n"
      ]
     },
     "metadata": {},
     "output_type": "display_data"
    },
    {
     "data": {
      "text/html": [
       "<div>\n",
       "  <span style=\"float: left;\">isEmpty at LDAOptimizer.scala:450</span>\n",
       "</div>\n"
      ]
     },
     "metadata": {},
     "output_type": "display_data"
    },
    {
     "data": {
      "text/html": [
       "<div class=\"progress\">\n",
       "  <div class=\"progress-bar\" role=\"progressbar\" style=\"background-color: blue; width: 100%; word-wrap: normal; white-space: nowrap; text-align: center; color: white\" aria-valuenow=\"100\" aria-valuemin=\"0\" aria-valuemax=\"100\">\n",
       "    1 / 1\n",
       "  </div>\n",
       "  <div class=\"progress-bar\" role=\"progressbar\" style=\"background-color: red; width: 0%\" aria-valuenow=\"0\" aria-valuemin=\"0\" aria-valuemax=\"100\"></div>\n",
       "</div>\n"
      ]
     },
     "metadata": {},
     "output_type": "display_data"
    },
    {
     "data": {
      "text/html": [
       "<div>\n",
       "  <span style=\"float: left;\">treeAggregate at LDAOptimizer.scala:504</span>\n",
       "</div>\n"
      ]
     },
     "metadata": {},
     "output_type": "display_data"
    },
    {
     "data": {
      "text/html": [
       "<div class=\"progress\">\n",
       "  <div class=\"progress-bar\" role=\"progressbar\" style=\"background-color: blue; width: 100%; word-wrap: normal; white-space: nowrap; text-align: center; color: white\" aria-valuenow=\"100\" aria-valuemin=\"0\" aria-valuemax=\"100\">\n",
       "    1 / 1\n",
       "  </div>\n",
       "  <div class=\"progress-bar\" role=\"progressbar\" style=\"background-color: red; width: 0%\" aria-valuenow=\"0\" aria-valuemin=\"0\" aria-valuemax=\"100\"></div>\n",
       "</div>\n"
      ]
     },
     "metadata": {},
     "output_type": "display_data"
    },
    {
     "data": {
      "text/html": [
       "<div>\n",
       "  <span style=\"float: left;\">isEmpty at LDAOptimizer.scala:450</span>\n",
       "</div>\n"
      ]
     },
     "metadata": {},
     "output_type": "display_data"
    },
    {
     "data": {
      "text/html": [
       "<div class=\"progress\">\n",
       "  <div class=\"progress-bar\" role=\"progressbar\" style=\"background-color: blue; width: 100%; word-wrap: normal; white-space: nowrap; text-align: center; color: white\" aria-valuenow=\"100\" aria-valuemin=\"0\" aria-valuemax=\"100\">\n",
       "    1 / 1\n",
       "  </div>\n",
       "  <div class=\"progress-bar\" role=\"progressbar\" style=\"background-color: red; width: 0%\" aria-valuenow=\"0\" aria-valuemin=\"0\" aria-valuemax=\"100\"></div>\n",
       "</div>\n"
      ]
     },
     "metadata": {},
     "output_type": "display_data"
    },
    {
     "data": {
      "text/html": [
       "<div>\n",
       "  <span style=\"float: left;\">treeAggregate at LDAOptimizer.scala:504</span>\n",
       "</div>\n"
      ]
     },
     "metadata": {},
     "output_type": "display_data"
    },
    {
     "data": {
      "text/html": [
       "<div class=\"progress\">\n",
       "  <div class=\"progress-bar\" role=\"progressbar\" style=\"background-color: blue; width: 100%; word-wrap: normal; white-space: nowrap; text-align: center; color: white\" aria-valuenow=\"100\" aria-valuemin=\"0\" aria-valuemax=\"100\">\n",
       "    1 / 1\n",
       "  </div>\n",
       "  <div class=\"progress-bar\" role=\"progressbar\" style=\"background-color: red; width: 0%\" aria-valuenow=\"0\" aria-valuemin=\"0\" aria-valuemax=\"100\"></div>\n",
       "</div>\n"
      ]
     },
     "metadata": {},
     "output_type": "display_data"
    },
    {
     "data": {
      "text/html": [
       "<div>\n",
       "  <span style=\"float: left;\">isEmpty at LDAOptimizer.scala:450</span>\n",
       "</div>\n"
      ]
     },
     "metadata": {},
     "output_type": "display_data"
    },
    {
     "data": {
      "text/html": [
       "<div class=\"progress\">\n",
       "  <div class=\"progress-bar\" role=\"progressbar\" style=\"background-color: blue; width: 100%; word-wrap: normal; white-space: nowrap; text-align: center; color: white\" aria-valuenow=\"100\" aria-valuemin=\"0\" aria-valuemax=\"100\">\n",
       "    1 / 1\n",
       "  </div>\n",
       "  <div class=\"progress-bar\" role=\"progressbar\" style=\"background-color: red; width: 0%\" aria-valuenow=\"0\" aria-valuemin=\"0\" aria-valuemax=\"100\"></div>\n",
       "</div>\n"
      ]
     },
     "metadata": {},
     "output_type": "display_data"
    },
    {
     "data": {
      "text/html": [
       "<div>\n",
       "  <span style=\"float: left;\">treeAggregate at LDAOptimizer.scala:504</span>\n",
       "</div>\n"
      ]
     },
     "metadata": {},
     "output_type": "display_data"
    },
    {
     "data": {
      "text/html": [
       "<div class=\"progress\">\n",
       "  <div class=\"progress-bar\" role=\"progressbar\" style=\"background-color: blue; width: 100%; word-wrap: normal; white-space: nowrap; text-align: center; color: white\" aria-valuenow=\"100\" aria-valuemin=\"0\" aria-valuemax=\"100\">\n",
       "    1 / 1\n",
       "  </div>\n",
       "  <div class=\"progress-bar\" role=\"progressbar\" style=\"background-color: red; width: 0%\" aria-valuenow=\"0\" aria-valuemin=\"0\" aria-valuemax=\"100\"></div>\n",
       "</div>\n"
      ]
     },
     "metadata": {},
     "output_type": "display_data"
    },
    {
     "data": {
      "text/html": [
       "<div>\n",
       "  <span style=\"float: left;\">isEmpty at LDAOptimizer.scala:450</span>\n",
       "</div>\n"
      ]
     },
     "metadata": {},
     "output_type": "display_data"
    },
    {
     "data": {
      "text/html": [
       "<div class=\"progress\">\n",
       "  <div class=\"progress-bar\" role=\"progressbar\" style=\"background-color: blue; width: 100%; word-wrap: normal; white-space: nowrap; text-align: center; color: white\" aria-valuenow=\"100\" aria-valuemin=\"0\" aria-valuemax=\"100\">\n",
       "    1 / 1\n",
       "  </div>\n",
       "  <div class=\"progress-bar\" role=\"progressbar\" style=\"background-color: red; width: 0%\" aria-valuenow=\"0\" aria-valuemin=\"0\" aria-valuemax=\"100\"></div>\n",
       "</div>\n"
      ]
     },
     "metadata": {},
     "output_type": "display_data"
    },
    {
     "data": {
      "text/html": [
       "<div>\n",
       "  <span style=\"float: left;\">treeAggregate at LDAOptimizer.scala:504</span>\n",
       "</div>\n"
      ]
     },
     "metadata": {},
     "output_type": "display_data"
    },
    {
     "data": {
      "text/html": [
       "<div class=\"progress\">\n",
       "  <div class=\"progress-bar\" role=\"progressbar\" style=\"background-color: blue; width: 100%; word-wrap: normal; white-space: nowrap; text-align: center; color: white\" aria-valuenow=\"100\" aria-valuemin=\"0\" aria-valuemax=\"100\">\n",
       "    1 / 1\n",
       "  </div>\n",
       "  <div class=\"progress-bar\" role=\"progressbar\" style=\"background-color: red; width: 0%\" aria-valuenow=\"0\" aria-valuemin=\"0\" aria-valuemax=\"100\"></div>\n",
       "</div>\n"
      ]
     },
     "metadata": {},
     "output_type": "display_data"
    },
    {
     "data": {
      "text/html": [
       "<div>\n",
       "  <span style=\"float: left;\">isEmpty at LDAOptimizer.scala:450</span>\n",
       "</div>\n"
      ]
     },
     "metadata": {},
     "output_type": "display_data"
    },
    {
     "data": {
      "text/html": [
       "<div class=\"progress\">\n",
       "  <div class=\"progress-bar\" role=\"progressbar\" style=\"background-color: blue; width: 100%; word-wrap: normal; white-space: nowrap; text-align: center; color: white\" aria-valuenow=\"100\" aria-valuemin=\"0\" aria-valuemax=\"100\">\n",
       "    1 / 1\n",
       "  </div>\n",
       "  <div class=\"progress-bar\" role=\"progressbar\" style=\"background-color: red; width: 0%\" aria-valuenow=\"0\" aria-valuemin=\"0\" aria-valuemax=\"100\"></div>\n",
       "</div>\n"
      ]
     },
     "metadata": {},
     "output_type": "display_data"
    },
    {
     "data": {
      "text/html": [
       "<div>\n",
       "  <span style=\"float: left;\">treeAggregate at LDAOptimizer.scala:504</span>\n",
       "</div>\n"
      ]
     },
     "metadata": {},
     "output_type": "display_data"
    },
    {
     "data": {
      "text/html": [
       "<div class=\"progress\">\n",
       "  <div class=\"progress-bar\" role=\"progressbar\" style=\"background-color: blue; width: 100%; word-wrap: normal; white-space: nowrap; text-align: center; color: white\" aria-valuenow=\"100\" aria-valuemin=\"0\" aria-valuemax=\"100\">\n",
       "    1 / 1\n",
       "  </div>\n",
       "  <div class=\"progress-bar\" role=\"progressbar\" style=\"background-color: red; width: 0%\" aria-valuenow=\"0\" aria-valuemin=\"0\" aria-valuemax=\"100\"></div>\n",
       "</div>\n"
      ]
     },
     "metadata": {},
     "output_type": "display_data"
    },
    {
     "data": {
      "text/html": [
       "<div>\n",
       "  <span style=\"float: left;\">isEmpty at LDAOptimizer.scala:450</span>\n",
       "</div>\n"
      ]
     },
     "metadata": {},
     "output_type": "display_data"
    },
    {
     "data": {
      "text/html": [
       "<div class=\"progress\">\n",
       "  <div class=\"progress-bar\" role=\"progressbar\" style=\"background-color: blue; width: 100%; word-wrap: normal; white-space: nowrap; text-align: center; color: white\" aria-valuenow=\"100\" aria-valuemin=\"0\" aria-valuemax=\"100\">\n",
       "    1 / 1\n",
       "  </div>\n",
       "  <div class=\"progress-bar\" role=\"progressbar\" style=\"background-color: red; width: 0%\" aria-valuenow=\"0\" aria-valuemin=\"0\" aria-valuemax=\"100\"></div>\n",
       "</div>\n"
      ]
     },
     "metadata": {},
     "output_type": "display_data"
    },
    {
     "data": {
      "text/html": [
       "<div>\n",
       "  <span style=\"float: left;\">treeAggregate at LDAOptimizer.scala:504</span>\n",
       "</div>\n"
      ]
     },
     "metadata": {},
     "output_type": "display_data"
    },
    {
     "data": {
      "text/html": [
       "<div class=\"progress\">\n",
       "  <div class=\"progress-bar\" role=\"progressbar\" style=\"background-color: blue; width: 100%; word-wrap: normal; white-space: nowrap; text-align: center; color: white\" aria-valuenow=\"100\" aria-valuemin=\"0\" aria-valuemax=\"100\">\n",
       "    1 / 1\n",
       "  </div>\n",
       "  <div class=\"progress-bar\" role=\"progressbar\" style=\"background-color: red; width: 0%\" aria-valuenow=\"0\" aria-valuemin=\"0\" aria-valuemax=\"100\"></div>\n",
       "</div>\n"
      ]
     },
     "metadata": {},
     "output_type": "display_data"
    },
    {
     "data": {
      "text/html": [
       "<div>\n",
       "  <span style=\"float: left;\">isEmpty at LDAOptimizer.scala:450</span>\n",
       "</div>\n"
      ]
     },
     "metadata": {},
     "output_type": "display_data"
    },
    {
     "data": {
      "text/html": [
       "<div class=\"progress\">\n",
       "  <div class=\"progress-bar\" role=\"progressbar\" style=\"background-color: blue; width: 100%; word-wrap: normal; white-space: nowrap; text-align: center; color: white\" aria-valuenow=\"100\" aria-valuemin=\"0\" aria-valuemax=\"100\">\n",
       "    1 / 1\n",
       "  </div>\n",
       "  <div class=\"progress-bar\" role=\"progressbar\" style=\"background-color: red; width: 0%\" aria-valuenow=\"0\" aria-valuemin=\"0\" aria-valuemax=\"100\"></div>\n",
       "</div>\n"
      ]
     },
     "metadata": {},
     "output_type": "display_data"
    },
    {
     "data": {
      "text/html": [
       "<div>\n",
       "  <span style=\"float: left;\">treeAggregate at LDAOptimizer.scala:504</span>\n",
       "</div>\n"
      ]
     },
     "metadata": {},
     "output_type": "display_data"
    },
    {
     "data": {
      "text/html": [
       "<div class=\"progress\">\n",
       "  <div class=\"progress-bar\" role=\"progressbar\" style=\"background-color: blue; width: 100%; word-wrap: normal; white-space: nowrap; text-align: center; color: white\" aria-valuenow=\"100\" aria-valuemin=\"0\" aria-valuemax=\"100\">\n",
       "    1 / 1\n",
       "  </div>\n",
       "  <div class=\"progress-bar\" role=\"progressbar\" style=\"background-color: red; width: 0%\" aria-valuenow=\"0\" aria-valuemin=\"0\" aria-valuemax=\"100\"></div>\n",
       "</div>\n"
      ]
     },
     "metadata": {},
     "output_type": "display_data"
    },
    {
     "data": {
      "text/html": [
       "<div>\n",
       "  <span style=\"float: left;\">isEmpty at LDAOptimizer.scala:450</span>\n",
       "</div>\n"
      ]
     },
     "metadata": {},
     "output_type": "display_data"
    },
    {
     "data": {
      "text/html": [
       "<div class=\"progress\">\n",
       "  <div class=\"progress-bar\" role=\"progressbar\" style=\"background-color: blue; width: 100%; word-wrap: normal; white-space: nowrap; text-align: center; color: white\" aria-valuenow=\"100\" aria-valuemin=\"0\" aria-valuemax=\"100\">\n",
       "    1 / 1\n",
       "  </div>\n",
       "  <div class=\"progress-bar\" role=\"progressbar\" style=\"background-color: red; width: 0%\" aria-valuenow=\"0\" aria-valuemin=\"0\" aria-valuemax=\"100\"></div>\n",
       "</div>\n"
      ]
     },
     "metadata": {},
     "output_type": "display_data"
    },
    {
     "data": {
      "text/html": [
       "<div>\n",
       "  <span style=\"float: left;\">treeAggregate at LDAOptimizer.scala:504</span>\n",
       "</div>\n"
      ]
     },
     "metadata": {},
     "output_type": "display_data"
    },
    {
     "data": {
      "text/html": [
       "<div class=\"progress\">\n",
       "  <div class=\"progress-bar\" role=\"progressbar\" style=\"background-color: blue; width: 100%; word-wrap: normal; white-space: nowrap; text-align: center; color: white\" aria-valuenow=\"100\" aria-valuemin=\"0\" aria-valuemax=\"100\">\n",
       "    1 / 1\n",
       "  </div>\n",
       "  <div class=\"progress-bar\" role=\"progressbar\" style=\"background-color: red; width: 0%\" aria-valuenow=\"0\" aria-valuemin=\"0\" aria-valuemax=\"100\"></div>\n",
       "</div>\n"
      ]
     },
     "metadata": {},
     "output_type": "display_data"
    },
    {
     "data": {
      "text/html": [
       "<div>\n",
       "  <span style=\"float: left;\">isEmpty at LDAOptimizer.scala:450</span>\n",
       "</div>\n"
      ]
     },
     "metadata": {},
     "output_type": "display_data"
    },
    {
     "data": {
      "text/html": [
       "<div class=\"progress\">\n",
       "  <div class=\"progress-bar\" role=\"progressbar\" style=\"background-color: blue; width: 100%; word-wrap: normal; white-space: nowrap; text-align: center; color: white\" aria-valuenow=\"100\" aria-valuemin=\"0\" aria-valuemax=\"100\">\n",
       "    1 / 1\n",
       "  </div>\n",
       "  <div class=\"progress-bar\" role=\"progressbar\" style=\"background-color: red; width: 0%\" aria-valuenow=\"0\" aria-valuemin=\"0\" aria-valuemax=\"100\"></div>\n",
       "</div>\n"
      ]
     },
     "metadata": {},
     "output_type": "display_data"
    },
    {
     "data": {
      "text/html": [
       "<div>\n",
       "  <span style=\"float: left;\">treeAggregate at LDAOptimizer.scala:504</span>\n",
       "</div>\n"
      ]
     },
     "metadata": {},
     "output_type": "display_data"
    },
    {
     "data": {
      "text/html": [
       "<div class=\"progress\">\n",
       "  <div class=\"progress-bar\" role=\"progressbar\" style=\"background-color: blue; width: 100%; word-wrap: normal; white-space: nowrap; text-align: center; color: white\" aria-valuenow=\"100\" aria-valuemin=\"0\" aria-valuemax=\"100\">\n",
       "    1 / 1\n",
       "  </div>\n",
       "  <div class=\"progress-bar\" role=\"progressbar\" style=\"background-color: red; width: 0%\" aria-valuenow=\"0\" aria-valuemin=\"0\" aria-valuemax=\"100\"></div>\n",
       "</div>\n"
      ]
     },
     "metadata": {},
     "output_type": "display_data"
    },
    {
     "data": {
      "text/html": [
       "<div>\n",
       "  <span style=\"float: left;\">isEmpty at LDAOptimizer.scala:450</span>\n",
       "</div>\n"
      ]
     },
     "metadata": {},
     "output_type": "display_data"
    },
    {
     "data": {
      "text/html": [
       "<div class=\"progress\">\n",
       "  <div class=\"progress-bar\" role=\"progressbar\" style=\"background-color: blue; width: 100%; word-wrap: normal; white-space: nowrap; text-align: center; color: white\" aria-valuenow=\"100\" aria-valuemin=\"0\" aria-valuemax=\"100\">\n",
       "    1 / 1\n",
       "  </div>\n",
       "  <div class=\"progress-bar\" role=\"progressbar\" style=\"background-color: red; width: 0%\" aria-valuenow=\"0\" aria-valuemin=\"0\" aria-valuemax=\"100\"></div>\n",
       "</div>\n"
      ]
     },
     "metadata": {},
     "output_type": "display_data"
    },
    {
     "data": {
      "text/html": [
       "<div>\n",
       "  <span style=\"float: left;\">treeAggregate at LDAOptimizer.scala:504</span>\n",
       "</div>\n"
      ]
     },
     "metadata": {},
     "output_type": "display_data"
    },
    {
     "data": {
      "text/html": [
       "<div class=\"progress\">\n",
       "  <div class=\"progress-bar\" role=\"progressbar\" style=\"background-color: blue; width: 100%; word-wrap: normal; white-space: nowrap; text-align: center; color: white\" aria-valuenow=\"100\" aria-valuemin=\"0\" aria-valuemax=\"100\">\n",
       "    1 / 1\n",
       "  </div>\n",
       "  <div class=\"progress-bar\" role=\"progressbar\" style=\"background-color: red; width: 0%\" aria-valuenow=\"0\" aria-valuemin=\"0\" aria-valuemax=\"100\"></div>\n",
       "</div>\n"
      ]
     },
     "metadata": {},
     "output_type": "display_data"
    },
    {
     "data": {
      "text/html": [
       "<div>\n",
       "  <span style=\"float: left;\">isEmpty at LDAOptimizer.scala:450</span>\n",
       "</div>\n"
      ]
     },
     "metadata": {},
     "output_type": "display_data"
    },
    {
     "data": {
      "text/html": [
       "<div class=\"progress\">\n",
       "  <div class=\"progress-bar\" role=\"progressbar\" style=\"background-color: blue; width: 100%; word-wrap: normal; white-space: nowrap; text-align: center; color: white\" aria-valuenow=\"100\" aria-valuemin=\"0\" aria-valuemax=\"100\">\n",
       "    1 / 1\n",
       "  </div>\n",
       "  <div class=\"progress-bar\" role=\"progressbar\" style=\"background-color: red; width: 0%\" aria-valuenow=\"0\" aria-valuemin=\"0\" aria-valuemax=\"100\"></div>\n",
       "</div>\n"
      ]
     },
     "metadata": {},
     "output_type": "display_data"
    },
    {
     "data": {
      "text/html": [
       "<div>\n",
       "  <span style=\"float: left;\">treeAggregate at LDAOptimizer.scala:504</span>\n",
       "</div>\n"
      ]
     },
     "metadata": {},
     "output_type": "display_data"
    },
    {
     "data": {
      "text/html": [
       "<div class=\"progress\">\n",
       "  <div class=\"progress-bar\" role=\"progressbar\" style=\"background-color: blue; width: 100%; word-wrap: normal; white-space: nowrap; text-align: center; color: white\" aria-valuenow=\"100\" aria-valuemin=\"0\" aria-valuemax=\"100\">\n",
       "    1 / 1\n",
       "  </div>\n",
       "  <div class=\"progress-bar\" role=\"progressbar\" style=\"background-color: red; width: 0%\" aria-valuenow=\"0\" aria-valuemin=\"0\" aria-valuemax=\"100\"></div>\n",
       "</div>\n"
      ]
     },
     "metadata": {},
     "output_type": "display_data"
    },
    {
     "data": {
      "text/html": [
       "<div>\n",
       "  <span style=\"float: left;\">isEmpty at LDAOptimizer.scala:450</span>\n",
       "</div>\n"
      ]
     },
     "metadata": {},
     "output_type": "display_data"
    },
    {
     "data": {
      "text/html": [
       "<div class=\"progress\">\n",
       "  <div class=\"progress-bar\" role=\"progressbar\" style=\"background-color: blue; width: 100%; word-wrap: normal; white-space: nowrap; text-align: center; color: white\" aria-valuenow=\"100\" aria-valuemin=\"0\" aria-valuemax=\"100\">\n",
       "    1 / 1\n",
       "  </div>\n",
       "  <div class=\"progress-bar\" role=\"progressbar\" style=\"background-color: red; width: 0%\" aria-valuenow=\"0\" aria-valuemin=\"0\" aria-valuemax=\"100\"></div>\n",
       "</div>\n"
      ]
     },
     "metadata": {},
     "output_type": "display_data"
    },
    {
     "data": {
      "text/html": [
       "<div>\n",
       "  <span style=\"float: left;\">treeAggregate at LDAOptimizer.scala:504</span>\n",
       "</div>\n"
      ]
     },
     "metadata": {},
     "output_type": "display_data"
    },
    {
     "data": {
      "text/html": [
       "<div class=\"progress\">\n",
       "  <div class=\"progress-bar\" role=\"progressbar\" style=\"background-color: blue; width: 100%; word-wrap: normal; white-space: nowrap; text-align: center; color: white\" aria-valuenow=\"100\" aria-valuemin=\"0\" aria-valuemax=\"100\">\n",
       "    1 / 1\n",
       "  </div>\n",
       "  <div class=\"progress-bar\" role=\"progressbar\" style=\"background-color: red; width: 0%\" aria-valuenow=\"0\" aria-valuemin=\"0\" aria-valuemax=\"100\"></div>\n",
       "</div>\n"
      ]
     },
     "metadata": {},
     "output_type": "display_data"
    },
    {
     "data": {
      "text/html": [
       "<div>\n",
       "  <span style=\"float: left;\">isEmpty at LDAOptimizer.scala:450</span>\n",
       "</div>\n"
      ]
     },
     "metadata": {},
     "output_type": "display_data"
    },
    {
     "data": {
      "text/html": [
       "<div class=\"progress\">\n",
       "  <div class=\"progress-bar\" role=\"progressbar\" style=\"background-color: blue; width: 100%; word-wrap: normal; white-space: nowrap; text-align: center; color: white\" aria-valuenow=\"100\" aria-valuemin=\"0\" aria-valuemax=\"100\">\n",
       "    1 / 1\n",
       "  </div>\n",
       "  <div class=\"progress-bar\" role=\"progressbar\" style=\"background-color: red; width: 0%\" aria-valuenow=\"0\" aria-valuemin=\"0\" aria-valuemax=\"100\"></div>\n",
       "</div>\n"
      ]
     },
     "metadata": {},
     "output_type": "display_data"
    },
    {
     "data": {
      "text/html": [
       "<div>\n",
       "  <span style=\"float: left;\">treeAggregate at LDAOptimizer.scala:504</span>\n",
       "</div>\n"
      ]
     },
     "metadata": {},
     "output_type": "display_data"
    },
    {
     "data": {
      "text/html": [
       "<div class=\"progress\">\n",
       "  <div class=\"progress-bar\" role=\"progressbar\" style=\"background-color: blue; width: 100%; word-wrap: normal; white-space: nowrap; text-align: center; color: white\" aria-valuenow=\"100\" aria-valuemin=\"0\" aria-valuemax=\"100\">\n",
       "    1 / 1\n",
       "  </div>\n",
       "  <div class=\"progress-bar\" role=\"progressbar\" style=\"background-color: red; width: 0%\" aria-valuenow=\"0\" aria-valuemin=\"0\" aria-valuemax=\"100\"></div>\n",
       "</div>\n"
      ]
     },
     "metadata": {},
     "output_type": "display_data"
    },
    {
     "data": {
      "text/html": [
       "<div>\n",
       "  <span style=\"float: left;\">isEmpty at LDAOptimizer.scala:450</span>\n",
       "</div>\n"
      ]
     },
     "metadata": {},
     "output_type": "display_data"
    },
    {
     "data": {
      "text/html": [
       "<div class=\"progress\">\n",
       "  <div class=\"progress-bar\" role=\"progressbar\" style=\"background-color: blue; width: 100%; word-wrap: normal; white-space: nowrap; text-align: center; color: white\" aria-valuenow=\"100\" aria-valuemin=\"0\" aria-valuemax=\"100\">\n",
       "    1 / 1\n",
       "  </div>\n",
       "  <div class=\"progress-bar\" role=\"progressbar\" style=\"background-color: red; width: 0%\" aria-valuenow=\"0\" aria-valuemin=\"0\" aria-valuemax=\"100\"></div>\n",
       "</div>\n"
      ]
     },
     "metadata": {},
     "output_type": "display_data"
    },
    {
     "data": {
      "text/html": [
       "<div>\n",
       "  <span style=\"float: left;\">treeAggregate at LDAOptimizer.scala:504</span>\n",
       "</div>\n"
      ]
     },
     "metadata": {},
     "output_type": "display_data"
    },
    {
     "data": {
      "text/html": [
       "<div class=\"progress\">\n",
       "  <div class=\"progress-bar\" role=\"progressbar\" style=\"background-color: blue; width: 100%; word-wrap: normal; white-space: nowrap; text-align: center; color: white\" aria-valuenow=\"100\" aria-valuemin=\"0\" aria-valuemax=\"100\">\n",
       "    1 / 1\n",
       "  </div>\n",
       "  <div class=\"progress-bar\" role=\"progressbar\" style=\"background-color: red; width: 0%\" aria-valuenow=\"0\" aria-valuemin=\"0\" aria-valuemax=\"100\"></div>\n",
       "</div>\n"
      ]
     },
     "metadata": {},
     "output_type": "display_data"
    },
    {
     "data": {
      "text/plain": [
       "\u001b[36mtokenizer\u001b[39m: \u001b[32mRegexTokenizer\u001b[39m = regexTok_dd2e9bc84a38\n",
       "\u001b[36mtokenized_df\u001b[39m: \u001b[32mDataFrame\u001b[39m = [corpus: string, id: bigint ... 1 more field]\n",
       "\u001b[36mremover\u001b[39m: \u001b[32mStopWordsRemover\u001b[39m = stopWords_83db6022a2f7\n",
       "\u001b[36mfiltered_df\u001b[39m: \u001b[32mDataFrame\u001b[39m = [corpus: string, id: bigint ... 2 more fields]\n",
       "\u001b[36mvectorizer\u001b[39m: \u001b[32morg\u001b[39m.\u001b[32mapache\u001b[39m.\u001b[32mspark\u001b[39m.\u001b[32mml\u001b[39m.\u001b[32mfeature\u001b[39m.\u001b[32mCountVectorizerModel\u001b[39m = cntVec_449c4a4078eb\n",
       "\u001b[36mcountVectors\u001b[39m: \u001b[32mDataFrame\u001b[39m = [id: bigint, features: vector]\n",
       "\u001b[36mlda\u001b[39m: \u001b[32mLDA\u001b[39m = lda_477810e488b5\n",
       "\u001b[36mmodel\u001b[39m: \u001b[32morg\u001b[39m.\u001b[32mapache\u001b[39m.\u001b[32mspark\u001b[39m.\u001b[32mml\u001b[39m.\u001b[32mclustering\u001b[39m.\u001b[32mLDAModel\u001b[39m = lda_477810e488b5"
      ]
     },
     "execution_count": 4,
     "metadata": {},
     "output_type": "execute_result"
    }
   ],
   "source": [
    "val tokenizer = new RegexTokenizer().setPattern(\"[\\\\W_]+\").setMinTokenLength(minimumTokenLength).setInputCol(\"corpus\").setOutputCol(\"tokens\")\n",
    "val tokenized_df = tokenizer.transform(corpus_df)\n",
    "\n",
    "val remover = new StopWordsRemover().setStopWords(stopWords).setInputCol(\"tokens\").setOutputCol(\"filtered\")\n",
    "val filtered_df = remover.transform(tokenized_df)\n",
    "\n",
    "val vectorizer = new CountVectorizer().setInputCol(\"filtered\").setOutputCol(\"features\").setVocabSize(vocabSize).setMinDF(5).fit(filtered_df)\n",
    "val countVectors = vectorizer.transform(filtered_df).select(\"id\", \"features\")\n",
    "\n",
    "val lda = new LDA().setK(k).setMaxIter(iterations)\n",
    "val model = lda.fit(countVectors)"
   ]
  },
  {
   "cell_type": "code",
   "execution_count": 5,
   "metadata": {},
   "outputs": [
    {
     "data": {
      "text/html": [
       "\n",
       "      <table class=\"table\">\n",
       "        <tr>\n",
       "        <th>topic</th><th>termIndices</th><th>termWeights</th>\n",
       "        </tr>\n",
       "        <tr><td>0</td><td>[3, 9, 2, 16, 21, 17, 23, 37, 10, 1, 44, 50, 18, 65, 56, 53, 72, 22, 54, 13]</td><td>[0.0570027569523144, 0.04926904087489605, 0.03911958972787758, 0.029249465071014613, 0.028174847245859353, 0.026326216152164766, 0.025538307059085538, 0.021262117171857952, 0.017740085529063785, 0.01703733665857046, 0.017017007703640088, 0.015170736951189798, 0.013887522140126623, 0.013270067405996698, 0.01217458401674285, 0.011790767678030112, 0.01106034016293905, 0.01080241235698539, 0.01048187568097295, 0.009936991744028517]</td></tr><tr><td>1</td><td>[112, 448, 450, 664, 666, 559, 801, 695, 923, 469, 865, 368, 181, 680, 811, 449, 860, 859, 777, 727]</td><td>[0.07438273957156721, 0.018423537954959573, 0.015220464355684403, 0.0111671614210492, 0.009262540695132845, 0.00827689539992169, 0.007552555453162492, 0.007431307570933221, 0.007197034292504661, 0.006927930920432636, 0.006856398455083203, 0.0066722327643573024, 0.006445188866688572, 0.006318390799468198, 0.0062865898240733655, 0.005997826415343443, 0.00586053853316456, 0.005724334896064792, 0.005664848371410077, 0.00558734265975644]</td></tr><tr><td>2</td><td>[85, 14, 32, 1, 142, 31, 15, 202, 109, 139, 246, 247, 271, 154, 194, 282, 319, 318, 219, 375]</td><td>[0.049029496446781194, 0.036386114682854916, 0.03256285194845308, 0.032408812823256354, 0.030497681098475775, 0.02485019589417943, 0.022532477067079847, 0.02070563601565835, 0.018542874170460244, 0.017224997582351975, 0.01708964801944152, 0.016722429966800643, 0.015643746949793428, 0.015554184547806384, 0.013044882128699127, 0.010160540448863763, 0.01007128227719765, 0.009869266242924038, 0.009741870955619262, 0.009708450444701353]</td></tr><tr><td>3</td><td>[1, 0, 12, 6, 8, 36, 11, 20, 52, 62, 83, 3, 22, 40, 78, 27, 63, 13, 39, 163]</td><td>[0.05738169550349262, 0.05649919814367649, 0.05253840547466611, 0.05082142208153891, 0.03642126606622154, 0.030048335900069785, 0.025424828723638795, 0.024984171280504886, 0.023408682926464842, 0.02037443954492004, 0.019139390694642842, 0.018757363095869242, 0.01783932735654865, 0.016177396404340974, 0.016038791561847697, 0.015267652547054455, 0.014979324861764327, 0.012232645566130896, 0.00991602215798045, 0.009261319900296276]</td></tr><tr><td>4</td><td>[26, 0, 2, 25, 60, 8, 86, 88, 48, 19, 129, 94, 132, 6, 73, 30, 80, 66, 11, 70]</td><td>[0.07109937991988029, 0.06385290035379859, 0.05573777574968814, 0.05432417184679488, 0.03984369639467067, 0.038882132624450824, 0.03323673398758548, 0.03088591959805974, 0.0306908487647795, 0.023895071575307857, 0.02136168606953911, 0.020797572306075072, 0.02032014752432319, 0.018860828585207715, 0.01868272664026337, 0.01630366098908093, 0.01472110250649863, 0.014146710735104127, 0.01262045134205413, 0.011926230869223182]</td></tr><tr><td>5</td><td>[5, 4, 7, 0, 14, 2, 11, 13, 24, 1, 38, 42, 6, 43, 45, 28, 10, 8, 31, 30]</td><td>[0.05938984996306914, 0.05727033794472761, 0.03986869605676984, 0.03296967477722263, 0.019258976690932874, 0.018717608836199096, 0.018469164846977946, 0.017212788939039627, 0.016372325053449308, 0.015055195974641764, 0.013365691557876874, 0.012923064442012093, 0.012802028033113526, 0.01256898176851692, 0.01234132095713391, 0.012037409121119629, 0.011753050886446742, 0.010936652542894078, 0.010448681019765586, 0.009848173824575548]</td></tr><tr><td>6</td><td>[1, 51, 69, 35, 3, 131, 87, 58, 41, 15, 2, 96, 210, 19, 79, 49, 201, 111, 197, 239]</td><td>[0.060364246966633936, 0.047539406734559, 0.03798798162479387, 0.035714775157328904, 0.033888991040258575, 0.025702160447007353, 0.024008310101981845, 0.022954976310238715, 0.021404696375193148, 0.01981461686654317, 0.018732506904440942, 0.01870839358691975, 0.018417085973427023, 0.01580109384679378, 0.01567393747009918, 0.015395642586528781, 0.014368907490866854, 0.013899343158401132, 0.012442758466654161, 0.012109505755433616]</td></tr><tr><td>7</td><td>[398, 312, 806, 643, 500, 884, 893, 1159, 1103, 39, 1128, 1363, 881, 488, 183, 1222, 1600, 1, 342, 828]</td><td>[0.04317958250309407, 0.03600836885619099, 0.013796199587413006, 0.009321254792452136, 0.007518565782922464, 0.007215840939824137, 0.006142416346694171, 0.0053319089327310935, 0.005221882043510673, 0.005201857998417654, 0.004792212053668498, 0.0044826657026088255, 0.004353204904601806, 0.0042566908419886945, 0.004179095781714856, 0.003616276097217363, 0.003371390200463196, 0.0031105724863659894, 0.002960187691096011, 0.002924481610611702]</td></tr><tr><td>8</td><td>[6, 10, 98, 113, 19, 66, 124, 190, 188, 144, 156, 138, 70, 112, 220, 224, 81, 249, 110, 145]</td><td>[0.07369900190022768, 0.039783662451851144, 0.028243584015331724, 0.020050521924734183, 0.017873299475179665, 0.01693942021961841, 0.014987936878390298, 0.014747406819264777, 0.014665141863707551, 0.014456299108296627, 0.01436602748520978, 0.013805831029585281, 0.013143272862023894, 0.01271978088746245, 0.01149848608725629, 0.01134216601599122, 0.011113528638041586, 0.010876964318988049, 0.01079566795983309, 0.01076234017469471]</td></tr><tr><td>9</td><td>[29, 150, 174, 2, 228, 218, 46, 255, 205, 143, 299, 0, 221, 313, 267, 343, 359, 63, 295, 412]</td><td>[0.046565851646190856, 0.040011767771674235, 0.033975421070427926, 0.026873132147454598, 0.023414656769055735, 0.02245519123923833, 0.021760242120762965, 0.0205811794216559, 0.02032086149867127, 0.01701321632758527, 0.015816884847114052, 0.013967121335903075, 0.013187221174482773, 0.012966176327918709, 0.012333094752364349, 0.012101847138053219, 0.01154914321181776, 0.01136468352347878, 0.010870290440963071, 0.009671658662621823]</td></tr><tr><td>10</td><td>[47, 102, 344, 123, 386, 350, 473, 146, 214, 431, 474, 548, 80, 22, 454, 531, 707, 541, 564, 109]</td><td>[0.08488894483622393, 0.05493079266986783, 0.020662445121327654, 0.019060668188013496, 0.01608335065712722, 0.015573925711536943, 0.013333943172622311, 0.012174535047325411, 0.01103548667990876, 0.011026661596162836, 0.010800403987117619, 0.01008503726175756, 0.008995308262839685, 0.008616037894481576, 0.008274344977853575, 0.007650600927753726, 0.006572550072215689, 0.006456165683797905, 0.006429927053022851, 0.006290586289133525]</td></tr>\n",
       "      </table>"
      ]
     },
     "metadata": {},
     "output_type": "display_data"
    },
    {
     "data": {
      "text/plain": [
       "\u001b[36mtopics\u001b[39m: \u001b[32mDataFrame\u001b[39m = [topic: int, termIndices: array<int> ... 1 more field]"
      ]
     },
     "execution_count": 5,
     "metadata": {},
     "output_type": "execute_result"
    }
   ],
   "source": [
    "val topics = model.describeTopics(20)\n",
    "topics.showHTML(truncate=1000)"
   ]
  },
  {
   "cell_type": "code",
   "execution_count": 6,
   "metadata": {},
   "outputs": [
    {
     "data": {
      "text/plain": [
       "\u001b[36mtopicLabels\u001b[39m: \u001b[32mDataset\u001b[39m[\u001b[32mWrappedArray\u001b[39m[\u001b[32mString\u001b[39m]] = [value: array<string>]\n",
       "\u001b[36mlabelsNumberedLong\u001b[39m: \u001b[32mDataFrame\u001b[39m = [terms: array<string>, topicLong: bigint]\n",
       "\u001b[36mlabelsIndexed\u001b[39m: \u001b[32mDataFrame\u001b[39m = [terms: array<string>, topic: int]\n",
       "\u001b[36mtopicsWithTerms\u001b[39m: \u001b[32mDataFrame\u001b[39m = [terms: array<string>, topic: int ... 2 more fields]\n",
       "\u001b[36mweightedLabels\u001b[39m: \u001b[32mDataFrame\u001b[39m = [terms: array<string>, topic: int ... 3 more fields]"
      ]
     },
     "execution_count": 6,
     "metadata": {},
     "output_type": "execute_result"
    }
   ],
   "source": [
    "val topicLabels = topics.select(\"termIndices\").map { case Row(r:  WrappedArray[Integer]) => r.map( i => vectorizer.vocabulary(i) ) }\n",
    "val labelsNumberedLong = topicLabels.rdd.zipWithIndex.toDF(\"terms\", \"topicLong\")\n",
    "val labelsIndexed = labelsNumberedLong.withColumn(\"topic\", $\"topicLong\".cast(IntegerType)).drop(\"topicLong\")\n",
    "\n",
    "val topicsWithTerms = labelsIndexed.join(topics, labelsIndexed.col(\"topic\") === topics.col(\"topic\")).drop(labelsIndexed.col(\"topic\"))\n",
    "\n",
    "val weightedLabels = topicsWithTerms.withColumn(\"termsWithWeight\", expr(\"zip_with(terms, termWeights, (t,w) -> concat(t, ' ', w))\"))\n"
   ]
  },
  {
   "cell_type": "code",
   "execution_count": 7,
   "metadata": {},
   "outputs": [
    {
     "data": {
      "text/html": [
       "<div>\n",
       "  <span style=\"float: left;\">run at ThreadPoolExecutor.java:1149</span>\n",
       "</div>\n"
      ]
     },
     "metadata": {},
     "output_type": "display_data"
    },
    {
     "data": {
      "text/html": [
       "<div class=\"progress\">\n",
       "  <div class=\"progress-bar\" role=\"progressbar\" style=\"background-color: blue; width: 100%; word-wrap: normal; white-space: nowrap; text-align: center; color: white\" aria-valuenow=\"100\" aria-valuemin=\"0\" aria-valuemax=\"100\">\n",
       "    1 / 1\n",
       "  </div>\n",
       "  <div class=\"progress-bar\" role=\"progressbar\" style=\"background-color: red; width: 0%\" aria-valuenow=\"0\" aria-valuemin=\"0\" aria-valuemax=\"100\"></div>\n",
       "</div>\n"
      ]
     },
     "metadata": {},
     "output_type": "display_data"
    },
    {
     "data": {
      "text/html": [
       "<div>\n",
       "  <span style=\"float: left;\">take at cmd2.sc:4</span>\n",
       "</div>\n"
      ]
     },
     "metadata": {},
     "output_type": "display_data"
    },
    {
     "data": {
      "text/html": [
       "<div class=\"progress\">\n",
       "  <div class=\"progress-bar\" role=\"progressbar\" style=\"background-color: blue; width: 100%; word-wrap: normal; white-space: nowrap; text-align: center; color: white\" aria-valuenow=\"100\" aria-valuemin=\"0\" aria-valuemax=\"100\">\n",
       "    1 / 1\n",
       "  </div>\n",
       "  <div class=\"progress-bar\" role=\"progressbar\" style=\"background-color: red; width: 0%\" aria-valuenow=\"0\" aria-valuemin=\"0\" aria-valuemax=\"100\"></div>\n",
       "</div>\n"
      ]
     },
     "metadata": {},
     "output_type": "display_data"
    },
    {
     "data": {
      "text/html": [
       "\n",
       "      <table class=\"table\">\n",
       "        <tr>\n",
       "        <th>topic</th><th>termsWithWeight</th>\n",
       "        </tr>\n",
       "        <tr><td>0</td><td>[cornucopiae 0.0570027569523144, patera 0.04926904087489605, globe 0.03911958972787758, altar 0.029249465071014613, chlamys 0.028174847245859353, nude 0.026326216152164766, genius 0.025538307059085538, modius 0.021262117171857952, constantinei 0.017740085529063785, sceptre 0.01703733665857046, sol 0.017017007703640088, radiate 0.015170736951189798, maximian 0.013887522140126623, out 0.013270067405996698, rudder 0.01217458401674285, togate 0.011790767678030112, fortuna 0.01106034016293905, antoninuspius 0.01080241235698539, cornears 0.01048187568097295, gallienus 0.009936991744028517]</td></tr><tr><td>1</td><td>[augustus 0.07438273957156721, cippus 0.018423537954959573, capricorn 0.015220464355684403, bundle 0.0111671614210492, pegasus 0.009262540695132845, offering 0.00827689539992169, arabia 0.007552555453162492, grain 0.007431307570933221, canes 0.007197034292504661, aeternitas 0.006927930920432636, imp 0.006856398455083203, attached 0.0066722327643573024, carrying 0.006445188866688572, cloaked 0.006318390799468198, stalks 0.0062865898240733655, avg 0.005997826415343443, hippocamp 0.00586053853316456, camel 0.005724334896064792, sun 0.005664848371410077, moon 0.00558734265975644]</td></tr><tr><td>2</td><td>[column 0.049029496446781194, resting 0.036386114682854916, leaning 0.03256285194845308, sceptre 0.032408812823256354, securitas 0.030497681098475775, arm 0.02485019589417943, hadrian 0.022532477067079847, legs 0.02070563601565835, nero 0.018542874170460244, small 0.017224997582351975, crossed 0.01708964801944152, elbow 0.016722429966800643, reclining 0.015643746949793428, figure 0.015554184547806384, bareheaded 0.013044882128699127, lyre 0.010160540448863763, basket 0.01007128227719765, drawing 0.009869266242924038, rock 0.009741870955619262, pudicitia 0.009708450444701353]</td></tr><tr><td>3</td><td>[sceptre 0.05738169550349262, victory 0.05649919814367649, palm 0.05253840547466611, wreath 0.05082142208153891, advancing 0.03642126606622154, jupiter 0.030048335900069785, winged 0.025424828723638795, extended 0.024984171280504886, caduceus 0.023408682926464842, thunderbolt 0.02037443954492004, felicitas 0.019139390694642842, cornucopiae 0.018757363095869242, antoninuspius 0.01783932735654865, feet 0.016177396404340974, domitian 0.016038791561847697, septimiusseverus 0.015267652547054455, eagle 0.014979324861764327, gallienus 0.012232645566130896, valerian 0.00991602215798045, venus 0.009261319900296276]</td></tr><tr><td>4</td><td>[emperor 0.07109937991988029, victory 0.06385290035379859, globe 0.05573777574968814, captive 0.05432417184679488, labarum 0.03984369639467067, advancing 0.038882132624450824, dragging 0.03323673398758548, cross 0.03088591959805974, valentiniani 0.0306908487647795, standard 0.023895071575307857, hercules 0.02136168606953911, valens 0.020797572306075072, club 0.02032014752432319, wreath 0.018860828585207715, field 0.01868272664026337, foot 0.01630366098908093, long 0.01472110250649863, theodosiusi 0.014146710735104127, winged 0.01262045134205413, star 0.011926230869223182]</td></tr><tr><td>5</td><td>[shield 0.05938984996306914, spear 0.05727033794472761, helmeted 0.03986869605676984, victory 0.03296967477722263, resting 0.019258976690932874, globe 0.018717608836199096, winged 0.018469164846977946, gallienus 0.017212788939039627, roma 0.016372325053449308, sceptre 0.015055195974641764, military 0.013365691557876874, constantiusii 0.012923064442012093, wreath 0.012802028033113526, mars 0.01256898176851692, soldier 0.01234132095713391, trophy 0.012037409121119629, constantinei 0.011753050886446742, advancing 0.010936652542894078, arm 0.010448681019765586, foot 0.009848173824575548]</td></tr><tr><td>6</td><td>[sceptre 0.060364246966633936, pax 0.047539406734559, scales 0.03798798162479387, branch 0.035714775157328904, cornucopiae 0.033888991040258575, aequitas 0.025702160447007353, olivebranch 0.024008310101981845, carausius 0.022954976310238715, vespasian 0.021404696375193148, hadrian 0.01981461686654317, globe 0.018732506904440942, constans 0.01870839358691975, galley 0.018417085973427023, standard 0.01580109384679378, providentia 0.01567393747009918, vertical 0.015395642586528781, banner 0.014368907490866854, standards 0.013899343158401132, ship 0.012442758466654161, chirho 0.012109505755433616]</td></tr><tr><td>7</td><td>[victorinus 0.04317958250309407, vitellius 0.03600836885619099, boar 0.013796199587413006, implements 0.009321254792452136, busts 0.007518565782922464, sacrificial 0.007215840939824137, ubertas 0.006142416346694171, attendants 0.0053319089327310935, son 0.005221882043510673, valerian 0.005201857998417654, player 0.004792212053668498, wild 0.0044826657026088255, medusa 0.004353204904601806, hair 0.0042566908419886945, bust 0.004179095781714856, foeman 0.003616276097217363, row 0.003371390200463196, sceptre 0.0031105724863659894, female 0.002960187691096011, flute 0.002924481610611702]</td></tr><tr><td>8</td><td>[wreath 0.07369900190022768, constantinei 0.039783662451851144, laurel 0.028243584015331724, legend 0.020050521924734183, standard 0.017873299475179665, theodosiusi 0.01693942021961841, arms 0.014987936878390298, turrets 0.014747406819264777, camp 0.014665141863707551, doors 0.014456299108296627, gate 0.01436602748520978, fides 0.013805831029585281, star 0.013143272862023894, augustus 0.01271978088746245, without 0.01149848608725629, stone 0.01134216601599122, three 0.011113528638041586, layers 0.010876964318988049, victories 0.01079566795983309, captives 0.01076234017469471]</td></tr><tr><td>9</td><td>[walking 0.046565851646190856, spes 0.040011767771674235, flower 0.033975421070427926, globe 0.026873132147454598, emperors 0.023414656769055735, skirt 0.02245519123923833, them 0.021760242120762965, wings 0.0205811794216559, robe 0.02032086149867127, one 0.01701321632758527, together 0.015816884847114052, victory 0.013967121335903075, lion 0.013187221174482773, mappa 0.012966176327918709, nimbate 0.012333094752364349, anthemius 0.012101847138053219, outspread 0.01154914321181776, eagle 0.01136468352347878, diana 0.010870290440963071, palmbranch 0.009671658662621823]</td></tr><tr><td>10</td><td>[hands 0.08488894483622393, both 0.05493079266986783, arch 0.020662445121327654, temple 0.019060668188013496, clasped 0.01608335065712722, claudius 0.015573925711536943, statues 0.013333943172622311, quadriga 0.012174535047325411, maxentius 0.01103548667990876, triumphal 0.011026661596162836, ornamented 0.010800403987117619, uberitas 0.01008503726175756, long 0.008995308262839685, antoninuspius 0.008616037894481576, pediment 0.008274344977853575, fruits 0.007650600927753726, carthage 0.006572550072215689, view 0.006456165683797905, columns 0.006429927053022851, nero 0.006290586289133525]</td></tr>\n",
       "      </table>"
      ]
     },
     "metadata": {},
     "output_type": "display_data"
    }
   ],
   "source": [
    "weightedLabels.select(\"topic\", \"termsWithWeight\").showHTML(truncate=1000)\n"
   ]
  }
 ],
 "metadata": {
  "kernelspec": {
   "display_name": "Scala (2.12)",
   "language": "scala",
   "name": "scala212"
  },
  "language_info": {
   "codemirror_mode": "text/x-scala",
   "file_extension": ".scala",
   "mimetype": "text/x-scala",
   "name": "scala",
   "nbconvert_exporter": "script",
   "version": "2.12.10"
  }
 },
 "nbformat": 4,
 "nbformat_minor": 4
}
